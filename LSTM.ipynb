{
 "cells": [
  {
   "cell_type": "code",
   "execution_count": 1,
   "metadata": {
    "scrolled": false
   },
   "outputs": [],
   "source": [
    "# conda update conda"
   ]
  },
  {
   "cell_type": "code",
   "execution_count": 2,
   "metadata": {},
   "outputs": [],
   "source": [
    "# conda install anaconda=VersionNumber"
   ]
  },
  {
   "cell_type": "code",
   "execution_count": 3,
   "metadata": {},
   "outputs": [],
   "source": [
    "# pip install tensorflow"
   ]
  },
  {
   "cell_type": "code",
   "execution_count": 4,
   "metadata": {
    "executionInfo": {
     "elapsed": 2220,
     "status": "ok",
     "timestamp": 1617520234442,
     "user": {
      "displayName": "국민대학교_포스카_김선필",
      "photoUrl": "",
      "userId": "02627788490508495731"
     },
     "user_tz": -540
    },
    "id": "Ls6o--Z_d3aX"
   },
   "outputs": [],
   "source": [
    "import tensorflow as tf\n",
    "import numpy as np\n",
    "import pandas as pd\n",
    "import random as rd\n",
    "import sklearn.datasets\n",
    "import sklearn.cluster\n",
    "import sklearn.decomposition\n",
    "import collections\n",
    "import sklearn.naive_bayes\n",
    "import sklearn.model_selection\n",
    "\n",
    "np.set_printoptions(suppress=True)\n",
    "np.set_printoptions(threshold=10)\n",
    "\n",
    "import matplotlib.pyplot as plt\n",
    "%matplotlib inline\n",
    "\n",
    "import seaborn as sns\n",
    "import matplotlib.pyplot as plt"
   ]
  },
  {
   "cell_type": "code",
   "execution_count": 5,
   "metadata": {
    "executionInfo": {
     "elapsed": 3399,
     "status": "ok",
     "timestamp": 1617520235633,
     "user": {
      "displayName": "국민대학교_포스카_김선필",
      "photoUrl": "",
      "userId": "02627788490508495731"
     },
     "user_tz": -540
    },
    "id": "79b8TyZ6d3ad"
   },
   "outputs": [],
   "source": [
    "df = pd.read_csv(\"bigtrain.csv\")\n",
    "df = df[[\"DATE\", \"V2Locations\", \"V2Organizations\", \"V2Tone\", \"V2Themes\"]]"
   ]
  },
  {
   "cell_type": "code",
   "execution_count": 6,
   "metadata": {},
   "outputs": [
    {
     "data": {
      "text/plain": [
       "52000"
      ]
     },
     "execution_count": 6,
     "metadata": {},
     "output_type": "execute_result"
    }
   ],
   "source": [
    "len(df)"
   ]
  },
  {
   "cell_type": "markdown",
   "metadata": {},
   "source": [
    "# Themes to a sentence"
   ]
  },
  {
   "cell_type": "code",
   "execution_count": 7,
   "metadata": {},
   "outputs": [],
   "source": [
    "import re\n",
    "#  All lower case\n",
    "def to_lower(string):\n",
    "    result = string.lower()\n",
    "    return result"
   ]
  },
  {
   "cell_type": "code",
   "execution_count": 8,
   "metadata": {},
   "outputs": [
    {
     "name": "stderr",
     "output_type": "stream",
     "text": [
      "<ipython-input-8-220ea5c149a0>:6: FutureWarning: The default value of regex will change from True to False in a future version.\n",
      "  themes= themes.str.replace('\\d+', '')\n"
     ]
    }
   ],
   "source": [
    "themes = df['V2Themes']\n",
    "themes = themes.apply(to_lower)\n",
    "\n",
    "# Clean Themes\n",
    "# Remove digits\n",
    "themes= themes.str.replace('\\d+', '')\n",
    "\n",
    "# Remove comma\n",
    "themes= themes.str.replace(',', '')\n",
    "\n",
    "# Remove typo __ by replacing with _\n",
    "themes = themes.str.replace(\"__\", \"_\")\n",
    "    \n",
    "# remove taxonomy Labels\n",
    "themes = themes.str.replace(\"tax_\",\"\")\n",
    "themes = themes.str.replace(\"eco_\",\"\")\n",
    "themes = themes.str.replace(\"env_\",\"\")\n",
    "themes = themes.str.replace(\"wb_\", \"\")\n",
    "themes = themes.str.replace(\"fncact_\", \"\")\n",
    "themes = themes.str.replace(\"epu_\", \"\")\n",
    "themes = themes.str.replace(\"cats_\", \"\")\n",
    "themes = themes.str.replace(\"soc_\", \"\")\n",
    "themes = themes.str.replace(\"pointsofinterest_\", \"\")\n",
    "themes = themes.str.replace(\"slfid_\", \"\")\n",
    "themes = themes.str.replace(\"self_identified_\", \"\")\n",
    "themes = themes.str.replace(\"general_\", \"\")\n",
    "themes = themes.str.replace(\"ungp_\", \"\")\n",
    "themes = themes.str.replace(\"uspec_\", \"\")\n",
    "themes = themes.str.replace(\"econ_\", \"\")\n",
    "\n",
    "# remove crisislex_ standing for crisislex taxonomy\n",
    "themes = themes.str.replace(\"crisislex_c_\",\"crisislex_\")\n",
    "themes = themes.str.replace(\"crisislex_o_\",\"crisislex_\")\n",
    "themes = themes.str.replace(\"crisislex_t_\",\"crisislex_\")\n",
    "themes = themes.str.replace(\"crisislex_\",\"crisislex_\")\n",
    "themes = themes.str.replace(\"crisislex_\",\"\")\n",
    "themes = themes.str.replace(\"crisislexrec_\",\"\")\n",
    "\n",
    "# typo in some data where ethnicity is not fully typed\n",
    "themes = themes.str.replace(\"eth_\", \"ethnicity_\")\n",
    "themes = themes.str.replace(\"rel_\", \"religion_\")\n",
    "themes = themes.str.replace(\"mil_\", \"military_\")\n",
    "\n",
    "# 3d printing theme\n",
    "themes = themes.str.replace(\"_d_\", \"3d_\")"
   ]
  },
  {
   "cell_type": "code",
   "execution_count": 9,
   "metadata": {
    "scrolled": true
   },
   "outputs": [
    {
     "name": "stdout",
     "output_type": "stream",
     "text": [
      "0    updatessympathy crisislexrec vulnerable groups...\n",
      "Name: V2Themes, dtype: object\n"
     ]
    }
   ],
   "source": [
    "# Make the clean themes separated by semi-colon like a long sentence\n",
    "themes = themes.str.replace(\";\",\" \")\n",
    "themes = themes.str.replace(\"_\",\" \")\n",
    "\n",
    "print(themes[:1])"
   ]
  },
  {
   "cell_type": "code",
   "execution_count": 10,
   "metadata": {},
   "outputs": [
    {
     "name": "stdout",
     "output_type": "stream",
     "text": [
      "0    [updatessympathy, crisislexrec, vulnerable, gr...\n",
      "1    [worldmammals, horse, worldmammals, horse, wor...\n",
      "2    [ideology, stockmarket, stockmarket, stockmark...\n",
      "3    [gold, gold, gold, gold, gold, gold, energy, a...\n",
      "4    [deputy, deputy, candidates, executive, media,...\n",
      "Name: V2Themes, dtype: object\n"
     ]
    }
   ],
   "source": [
    "# Tokenize Words\n",
    "import nltk\n",
    "from nltk.tokenize import word_tokenize\n",
    "\n",
    "themes = themes.apply(word_tokenize)\n",
    "print(themes[:5])"
   ]
  },
  {
   "cell_type": "code",
   "execution_count": 11,
   "metadata": {
    "scrolled": true
   },
   "outputs": [
    {
     "name": "stdout",
     "output_type": "stream",
     "text": [
      "0    [updatessympathy, crisislexrec, vulnerable, gr...\n",
      "1    [worldmammals, horse, worldmammals, horse, wor...\n",
      "2    [ideology, stockmarket, stockmarket, stockmark...\n",
      "3    [gold, gold, gold, gold, gold, gold, energy, e...\n",
      "4    [deputy, deputy, candidates, executive, media,...\n",
      "Name: V2Themes, dtype: object\n"
     ]
    }
   ],
   "source": [
    "# Remove stopwords\n",
    "from nltk.corpus import stopwords\n",
    "stop = stopwords.words('english')\n",
    "\n",
    "themes = themes.apply(lambda x: [word for word in x if word not in (stop)])\n",
    "print(themes[:5])"
   ]
  },
  {
   "cell_type": "code",
   "execution_count": 12,
   "metadata": {},
   "outputs": [
    {
     "name": "stdout",
     "output_type": "stream",
     "text": [
      "0    [updatessympathy, crisislexrec, vulnerable, gr...\n",
      "1    [worldmammals, horse, worldmammals, horse, wor...\n",
      "2    [ideology, stockmarket, stockmarket, stockmark...\n",
      "3    [gold, gold, gold, gold, gold, gold, energy, e...\n",
      "4    [deputy, deputy, candidates, executive, media,...\n",
      "Name: V2Themes, dtype: object\n"
     ]
    }
   ],
   "source": [
    "# Simplify words like convert everything to first person, etc.\n",
    "# nltk.download('wordnet')\n",
    "from nltk.stem import WordNetLemmatizer \n",
    "\n",
    "themes = themes.apply(lambda x: [WordNetLemmatizer().lemmatize(word, pos='v') for word in x])\n",
    "print(themes[:5])"
   ]
  },
  {
   "cell_type": "code",
   "execution_count": 13,
   "metadata": {
    "scrolled": false
   },
   "outputs": [
    {
     "name": "stdout",
     "output_type": "stream",
     "text": [
      "0    [updatessympathy, crisislexrec, vulnerable, gr...\n",
      "1    [worldmammals, horse, worldmammals, horse, wor...\n",
      "2    [ideology, stockmarket, stockmarket, stockmark...\n",
      "3    [gold, gold, gold, gold, gold, gold, energy, e...\n",
      "4    [deputy, deputy, candidates, executive, media,...\n",
      "Name: V2Themes, dtype: object\n"
     ]
    }
   ],
   "source": [
    "# Remove words with less than 3 letters (Hopefully will remove taxonomy related words)\n",
    "\n",
    "themes = themes.apply(lambda x: [word for word in x if len(word) > 3])\n",
    "print(themes[:5])"
   ]
  },
  {
   "cell_type": "markdown",
   "metadata": {},
   "source": [
    "# Formulate a text (or news article)"
   ]
  },
  {
   "cell_type": "code",
   "execution_count": 14,
   "metadata": {},
   "outputs": [],
   "source": [
    "detokenized_news = []\n",
    "for i in range(len(themes)):\n",
    "    t = ' '.join(themes[i])\n",
    "    detokenized_news.append(t)\n",
    "\n",
    "news = detokenized_news"
   ]
  },
  {
   "cell_type": "code",
   "execution_count": 15,
   "metadata": {},
   "outputs": [
    {
     "data": {
      "text/plain": [
       "['updatessympathy crisislexrec vulnerable group social inclusion orphan social development private sector development business climate inspections license permit business environment natural disaster natural disaster',\n",
       " 'worldmammals horse worldmammals horse worldmammals horse worldmammals horse worldmammals horse worldmammals horse worldmammals horse worldmammals horse worldmammals horse worldmammals horse worldmammals horse worldmammals horse worldmammals horse media media media media media media reporter reporter reporter reporter reporter reporter news reporter news reporter news reporter news reporter news reporter news reporter manmade disaster imply price price price price digital government broadcast media information communication technologies mine policy policy policy policy house price house price house price house price house price stockmarket stockmarket stockmarket stockmarket chief entrepreneurship entrepreneurship entrepreneurship entrepreneurship entrepreneurship entrepreneurship usher policy policy policy policy policy policy policy policy economy economy economy economy economy economy economy economy economy historic economy historic economy historic economy historic economy historic economy historic economy historic economy historic analyst kill trade uncertainty constitutional transport warehouse storage transport logistics service forest rivers oceans',\n",
       " 'ideology stockmarket stockmarket stockmarket stockmarket stockmarket stockmarket stockmarket stockmarket stockmarket stockmarket stockmarket stockmarket stockmarket stockmarket stockmarket stockmarket armedconflict armedconflict armedconflict interest interest interest policy interest policy interest policy interest monetary policy monetary policy monetary policy worldmammals horse worldmammals horse entrepreneurship entrepreneurship media policy policy economy economy economy historic economy historic worldmammals bear price centralbank central bank financial architecture bank financial sector development bank institutions policy central bank inflation macroeconomic vulnerability debt inflation health promotion disease prevention water sanitation hygiene public health health nutrition population water water forest rivers oceans',\n",
       " 'gold gold gold gold gold gold energy extractives energy extractives energy extractives energy extractives energy extractives energy extractives mine systems mine systems mine systems mine systems mine systems mine systems metal mine metal mine metal mine metal mine metal mine metal mine author author policy policy policy representative representative',\n",
       " 'deputy deputy candidates executive media reporter leader leader leader prime minister prime minister prime minister digital government broadcast media information communication technologies defection communist communist authorities crisislexrec policy authorities policy policy minister minister minister chairman chairman chairman chairman policy economy economy historic politics general politics general politics general politics general politics general politics general politics general politics general politics general politics general political party communist party political party communist party worldmammals tiger forest rivers oceans forest rivers oceans forest rivers oceans forest rivers oceans forest rivers oceans forest rivers oceans forest rivers oceans forest rivers oceans forest rivers oceans forest rivers oceans forest rivers oceans political party communist party china political party communist party china secretary']"
      ]
     },
     "execution_count": 15,
     "metadata": {},
     "output_type": "execute_result"
    }
   ],
   "source": [
    "news[:5]"
   ]
  },
  {
   "cell_type": "code",
   "execution_count": 16,
   "metadata": {
    "scrolled": false
   },
   "outputs": [
    {
     "data": {
      "text/plain": [
       "(52000, 1000)"
      ]
     },
     "execution_count": 16,
     "metadata": {},
     "output_type": "execute_result"
    }
   ],
   "source": [
    "import sklearn.feature_extraction.text\n",
    "from sklearn.feature_extraction.text import TfidfVectorizer\n",
    "vectorizer = TfidfVectorizer(stop_words='english', max_features= 1000)\n",
    "X = vectorizer.fit_transform(news)\n",
    "X.shape"
   ]
  },
  {
   "cell_type": "markdown",
   "metadata": {},
   "source": [
    "# Tokenizer"
   ]
  },
  {
   "cell_type": "code",
   "execution_count": 17,
   "metadata": {
    "colab": {
     "base_uri": "https://localhost:8080/"
    },
    "executionInfo": {
     "elapsed": 29199,
     "status": "ok",
     "timestamp": 1617520234439,
     "user": {
      "displayName": "국민대학교_포스카_김선필",
      "photoUrl": "",
      "userId": "02627788490508495731"
     },
     "user_tz": -540
    },
    "id": "imKKFcord3af",
    "outputId": "148749e3-225b-4258-f932-0aa715ce92a5"
   },
   "outputs": [
    {
     "name": "stderr",
     "output_type": "stream",
     "text": [
      "Using TensorFlow backend.\n"
     ]
    }
   ],
   "source": [
    "# Hot-vectors\n",
    "from keras.preprocessing.text import Tokenizer\n",
    "tokenizer = Tokenizer(num_words=5000)\n",
    "tokenizer.fit_on_texts(news)"
   ]
  },
  {
   "cell_type": "code",
   "execution_count": 18,
   "metadata": {
    "scrolled": true
   },
   "outputs": [],
   "source": [
    "# pip install keras"
   ]
  },
  {
   "cell_type": "code",
   "execution_count": 19,
   "metadata": {},
   "outputs": [],
   "source": [
    "# pip uninstall keras"
   ]
  },
  {
   "cell_type": "code",
   "execution_count": 20,
   "metadata": {},
   "outputs": [],
   "source": [
    "# pip install Keras==2.2.4"
   ]
  },
  {
   "cell_type": "code",
   "execution_count": 21,
   "metadata": {},
   "outputs": [],
   "source": [
    "import keras\n",
    "from tensorflow.python.keras.preprocessing.sequence import pad_sequences\n",
    "from tensorflow.python.keras.preprocessing import sequence\n",
    "from tensorflow.python.keras.models import Sequential, Model\n",
    "from tensorflow.python.keras.layers import SimpleRNN, Dense, Embedding, LSTM, Flatten, Dropout, Input, Conv1D, MaxPooling1D, Bidirectional, GlobalMaxPool1D\n",
    "from tensorflow.python.keras.utils import np_utils\n",
    "from tensorflow.python.keras.callbacks import EarlyStopping, ModelCheckpoint\n",
    "from tensorflow.python.keras import backend as K\n",
    "from sklearn.model_selection import train_test_split\n",
    "import tensorflow as tf"
   ]
  },
  {
   "cell_type": "code",
   "execution_count": 22,
   "metadata": {},
   "outputs": [
    {
     "name": "stdout",
     "output_type": "stream",
     "text": [
      "23\n",
      "[247, 70, 1131, 456, 7, 671, 1155, 7, 38, 81, 13, 38, 79, 116, 137, 136, 134, 79, 95, 58, 22, 58, 22]\n"
     ]
    }
   ],
   "source": [
    "sequences = tokenizer.texts_to_sequences(news)\n",
    "print(len(sequences[0]))\n",
    "print(sequences[0])"
   ]
  },
  {
   "cell_type": "code",
   "execution_count": 23,
   "metadata": {},
   "outputs": [
    {
     "name": "stdout",
     "output_type": "stream",
     "text": [
      "{'health': 1, 'policy': 2, 'disease': 3, 'economy': 4, 'medical': 5, 'food': 6, 'social': 7, 'wellbeing': 8, 'population': 9, 'historic': 10, 'hospital': 11, 'education': 12, 'sector': 13, 'nutrition': 14, 'labor': 15, 'media': 16, 'security': 17, 'general': 18, 'technologies': 19, 'public': 20, 'mine': 21, 'disaster': 22, 'forest': 23, 'government': 24, 'politics': 25, 'management': 26, 'oceans': 27, 'rivers': 28, 'healthcare': 29, 'price': 30, 'corruption': 31, 'violence': 32, 'protection': 33, 'transport': 34, 'conflict': 35, 'anti': 36, 'ethnicity': 37, 'development': 38, 'worldlanguages': 39, 'safety': 40, 'pharmaceuticals': 41, 'financial': 42, 'transfer': 43, 'assistance': 44, 'diseases': 45, 'kind': 46, 'distribution': 47, 'elderly': 48, 'water': 49, 'manmade': 50, 'imply': 51, 'market': 52, 'science': 53, 'risk': 54, 'justice': 55, 'energy': 56, 'systems': 57, 'natural': 58, 'agriculture': 59, 'metal': 60, 'extractives': 61, 'chinese': 62, 'worldmammals': 63, 'deputy': 64, 'director': 65, 'governance': 66, 'university': 67, 'debt': 68, 'reporter': 69, 'crisislexrec': 70, 'legislation': 71, 'service': 72, 'authorities': 73, 'gold': 74, 'school': 75, 'physician': 76, 'poverty': 77, 'sanitation': 78, 'business': 79, 'trade': 80, 'private': 81, 'injury': 82, 'fragility': 83, 'maritime': 84, 'information': 85, 'reform': 86, 'leader': 87, 'change': 88, 'communication': 89, 'fear': 90, 'bank': 91, 'demographic': 92, 'stockmarket': 93, 'cancer': 94, 'environment': 95, 'digital': 96, 'geriatrics': 97, 'tourism': 98, 'chairman': 99, 'house': 100, 'agricultural': 101, 'insurance': 102, 'communicable': 103, 'crime': 104, 'diabetes': 105, 'prevention': 106, 'reduction': 107, 'criminal': 108, 'infrastructure': 109, 'innovation': 110, 'resources': 111, 'drug': 112, 'king': 113, 'migration': 114, 'organize': 115, 'climate': 116, 'police': 117, 'child': 118, 'professor': 119, 'broadcast': 120, 'policies': 121, 'military': 122, 'chief': 123, 'narcotics': 124, 'vulnerability': 125, 'secretary': 126, 'taxation': 127, 'human': 128, 'foodstaples': 129, 'party': 130, 'flood': 131, 'political': 132, 'macroeconomic': 133, 'permit': 134, 'industry': 135, 'license': 136, 'inspections': 137, 'competitive': 138, 'industries': 139, 'students': 140, 'doctor': 141, 'real': 142, 'sectors': 143, 'president': 144, 'tumor': 145, 'bear': 146, 'regulation': 147, 'armedconflict': 148, 'administration': 149, 'investigation': 150, 'urban': 151, 'minister': 152, 'skills': 153, 'representative': 154, 'national': 155, 'chronicdisease': 156, 'english': 157, 'workers': 158, 'employment': 159, 'institutions': 160, 'specialist': 161, 'heart': 162, 'finance': 163, 'entrepreneurship': 164, 'interest': 165, 'ecosystems': 166, 'communist': 167, 'growth': 168, 'incident': 169, 'children': 170, 'guide': 171, 'property': 172, 'executive': 173, 'manager': 174, 'caution': 175, 'advice': 176, 'author': 177, 'logistics': 178, 'passive': 179, 'graduation': 180, 'diagnostics': 181, 'nurse': 182, 'officer': 183, 'teacher': 184, 'right': 185, 'rural': 186, 'central': 187, 'monetary': 188, 'title': 189, 'retirement': 190, 'editor': 191, 'dispute': 192, 'architecture': 193, 'highways': 194, 'constitutional': 195, 'program': 196, 'quality': 197, 'movement': 198, 'capital': 199, 'ideology': 200, 'official': 201, 'peace': 202, 'operations': 203, 'worldcurrencies': 204, 'infection': 205, 'regulatory': 206, 'kill': 207, 'promotion': 208, 'performance': 209, 'pole': 210, 'entitlement': 211, 'black': 212, 'incentives': 213, 'compensation': 214, 'career': 215, 'silver': 216, 'russia': 217, 'generalcrime': 218, 'russian': 219, 'storage': 220, 'resolution': 221, 'access': 222, 'abdomen': 223, 'warehouse': 224, 'economic': 225, 'women': 226, 'base': 227, 'uncertainty': 228, 'inflation': 229, 'prison': 230, 'oilprice': 231, 'dead': 232, 'religion': 233, 'employability': 234, 'metabolism': 235, 'negotiations': 236, 'delay': 237, 'framework': 238, 'injure': 239, 'legal': 240, 'vertigo': 241, 'resource': 242, 'weather': 243, 'trial': 244, 'subsidies': 245, 'employees': 246, 'updatessympathy': 247, 'evidence': 248, 'coal': 249, 'weapons': 250, 'telecommunications': 251, 'pilot': 252, 'humans': 253, 'soldier': 254, 'driver': 255, 'currency': 256, 'stroke': 257, 'mountains': 258, 'farmers': 259, 'election': 260, 'strategies': 261, 'integration': 262, 'centralbank': 263, 'roads': 264, 'tourists': 265, 'intellectual': 266, 'lease': 267, 'arrest': 268, 'traffic': 269, 'broadband': 270, 'hygiene': 271, 'software': 272, 'fraud': 273, 'categories': 274, 'bribery': 275, 'collusion': 276, 'modes': 277, 'millet': 278, 'dealer': 279, 'regulations': 280, 'delivery': 281, 'peacekeeping': 282, 'college': 283, 'affect': 284, 'holiday': 285, 'maternal': 286, 'reproductive': 287, 'database': 288, 'hypertension': 289, 'emergencies': 290, 'discrimination': 291, 'recruitment': 292, 'volatility': 293, 'detention': 294, 'corrections': 295, 'emergency': 296, 'vaccination': 297, 'railways': 298, 'laws': 299, 'father': 300, 'prime': 301, 'city': 302, 'wind': 303, 'usher': 304, 'diplomacy': 305, 'integrity': 306, 'active': 307, 'directors': 308, 'airports': 309, 'world': 310, 'revolutionary': 311, 'yuan': 312, 'airport': 313, 'scholars': 314, 'port': 315, 'decentralization': 316, 'enforcement': 317, 'alternative': 318, 'aneurysm': 319, 'worldfish': 320, 'supplement': 321, 'supply': 322, 'immunizations': 323, 'land': 324, 'organization': 325, 'employer': 326, 'preparedness': 327, 'response': 328, 'pandemics': 329, 'appointment': 330, 'analyst': 331, 'candidates': 332, 'founder': 333, 'baby': 334, 'authentication': 335, 'authorization': 336, 'state': 337, 'lawyer': 338, 'iron': 339, 'officials': 340, 'syndrome': 341, 'economics': 342, 'fund': 343, 'center': 344, 'earthquake': 345, 'unrest': 346, 'connectivity': 347, 'villagers': 348, 'soviet': 349, 'worldbirds': 350, 'fiscal': 351, 'organizer': 352, 'educational': 353, 'unemployment': 354, 'rice': 355, 'structural': 356, 'rate': 357, 'kidney': 358, 'obesity': 359, 'high': 360, 'mayor': 361, 'drainage': 362, 'rheumatism': 363, 'shock': 364, 'sovereign': 365, 'investment': 366, 'czech': 367, 'peer': 368, 'troop': 369, 'exchange': 370, 'enterprise': 371, 'lung': 372, 'pneumonia': 373, 'manufacture': 374, 'local': 375, 'disable': 376, 'transparency': 377, 'wastewater': 378, 'remission': 379, 'smart': 380, 'negotiation': 381, 'dementia': 382, 'fever': 383, 'meat': 384, 'equipment': 385, 'constipation': 386, 'principal': 387, 'volunteer': 388, 'civillian': 389, 'governor': 390, 'crises': 391, 'researcher': 392, 'actors': 393, 'sanction': 394, 'system': 395, 'headquarter': 396, 'localgov': 397, 'terror': 398, 'patent': 399, 'budget': 400, 'belligerent': 401, 'freedom': 402, 'news': 403, 'newspaper': 404, 'servants': 405, 'zone': 406, 'determinants': 407, 'satellite': 408, 'administrator': 409, 'scientist': 410, 'pregnancy': 411, 'judge': 412, 'democracy': 413, 'aidgroups': 414, 'telecom': 415, 'developmentorgs': 416, 'china': 417, 'insiders': 418, 'navy': 419, 'consultant': 420, 'fish': 421, 'japanese': 422, 'seal': 423, 'sewerage': 424, 'methods': 425, 'outbreak': 426, 'international': 427, 'productivity': 428, 'production': 429, 'abuse': 430, 'milk': 431, 'spillovers': 432, 'disability': 433, 'technology': 434, 'border': 435, 'immigration': 436, 'horse': 437, 'actor': 438, 'commercial': 439, 'victim': 440, 'firm': 441, 'developer': 442, 'woman': 443, 'osteoarthritis': 444, 'boss': 445, 'captain': 446, 'spokesperson': 447, 'procedures': 448, 'entrepreneur': 449, 'asthma': 450, 'korean': 451, 'applications': 452, 'enterprises': 453, 'universities': 454, 'opportunities': 455, 'group': 456, 'attack': 457, 'construction': 458, 'gang': 459, 'rule': 460, 'info': 461, 'rumor': 462, 'hero': 463, 'immigrants': 464, 'executives': 465, 'dollars': 466, 'depression': 467, 'protest': 468, 'assistant': 469, 'tibetan': 470, 'brunei': 471, 'seize': 472, 'merchant': 473, 'extremism': 474, 'trauma': 475, 'competition': 476, 'citizens': 477, 'colleges': 478, 'infarction': 479, 'irrigation': 480, 'technician': 481, 'network': 482, 'ministry': 483, 'epidemic': 484, 'soybean': 485, 'naturalgas': 486, 'torture': 487, 'cantonese': 488, 'practitioners': 489, 'renewable': 490, 'agent': 491, 'personal': 492, 'resignation': 493, 'inspector': 494, 'station': 495, 'artery': 496, 'carotid': 497, 'commander': 498, 'taichung': 499, 'micro': 500, 'bacteria': 501, 'attorney': 502, 'engineer': 503, 'vendor': 504, 'ischemia': 505, 'failure': 506, 'monitor': 507, 'evaluation': 508, 'heavy': 509, 'tiger': 510, 'alliance': 511, 'rain': 512, 'civil': 513, 'artist': 514, 'hyperplasia': 515, 'white': 516, 'conductor': 517, 'gender': 518, 'progressive': 519, 'coronary': 520, 'sheep': 521, 'typhoon': 522, 'embolism': 523, 'brain': 524, 'guard': 525, 'illness': 526, 'ebola': 527, 'deficit': 528, 'zedong': 529, 'atherosclerosis': 530, 'emperor': 531, 'copper': 532, 'train': 533, 'falun': 534, 'gong': 535, 'correspondent': 536, 'grain': 537, 'worldinsects': 538, 'fatigue': 539, 'pharmacist': 540, 'forestry': 541, 'wolf': 542, 'insider': 543, 'solar': 544, 'traders': 545, 'cook': 546, 'faculty': 547, 'pollution': 548, 'breast': 549, 'economist': 550, 'supervisors': 551, 'migrant': 552, 'affordable': 553, 'nutritious': 554, 'areas': 555, 'wheat': 556, 'nephropathy': 557, 'parkinson': 558, 'tenant': 559, 'contractor': 560, 'meng': 561, 'writer': 562, 'influenza': 563, 'power': 564, 'pandas': 565, 'animal': 566, 'textbooks': 567, 'escort': 568, 'custodian': 569, 'fire': 570, 'fundamental': 571, 'fistula': 572, 'placement': 573, 'maize': 574, 'buyer': 575, 'plan': 576, 'tech': 577, 'industrial': 578, 'accountant': 579, 'shortage': 580, 'cohesion': 581, 'sustainable': 582, 'french': 583, 'worldreptiles': 584, 'queen': 585, 'supervisor': 586, 'wetlands': 587, 'edema': 588, 'cough': 589, 'prostate': 590, 'propaganda': 591, 'communists': 592, 'worldcrustaceans': 593, 'seizures': 594, 'ambassador': 595, 'hepatitis': 596, 'qiang': 597, 'rape': 598, 'diarrhea': 599, 'congress': 600, 'pioneer': 601, 'drill': 602, 'noble': 603, 'responseagenciesatcrisis': 604, 'interoperability': 605, 'sars': 606, 'standards': 607, 'muslim': 608, 'persecution': 609, 'candidate': 610, 'lipid': 611, 'bomb': 612, 'organizational': 613, 'opinion': 614, 'tinnitus': 615, 'youth': 616, 'crop': 617, 'prosecutors': 618, 'moderator': 619, 'arab': 620, 'atrocity': 621, 'foreign': 622, 'strategy': 623, 'deafness': 624, 'arthritis': 625, 'plaque': 626, 'common': 627, 'evacuation': 628, 'sextransdisease': 629, 'manufacturer': 630, 'church': 631, 'hypothermia': 632, 'displacedrelocatedevacuated': 633, 'ethics': 634, 'conduct': 635, 'robbery': 636, 'paralysis': 637, 'suicide': 638, 'drylands': 639, 'monopoly': 640, 'alzheimer': 641, 'action': 642, 'critical': 643, 'seige': 644, 'apprenticeship': 645, 'producer': 646, 'prince': 647, 'internship': 648, 'illegal': 649, 'switch': 650, 'heritage': 651, 'securities': 652, 'culture': 653, 'nutritional': 654, 'sanya': 655, 'designer': 656, 'agents': 657, 'automation': 658, 'delirium': 659, 'taiwanese': 660, 'german': 661, 'euro': 662, 'pancreatic': 663, 'kidnap': 664, 'missingfoundtrappedpeople': 665, 'criminals': 666, 'therapeutic': 667, 'agreements': 668, 'republican': 669, 'emergingtech': 670, 'inclusion': 671, 'headache': 672, 'harassment': 673, 'poison': 674, 'climatechange': 675, 'legislators': 676, 'loss': 677, 'acute': 678, 'lion': 679, 'chronic': 680, 'advocacy': 681, 'surgeon': 682, 'speaker': 683, 'design': 684, 'mediation': 685, 'businessmen': 686, 'landlord': 687, 'weight': 688, 'sovereignty': 689, 'democrat': 690, 'jaguar': 691, 'district': 692, 'american': 693, 'allergic': 694, 'zhuang': 695, 'green': 696, 'research': 697, 'actress': 698, 'gamble': 699, 'inflammation': 700, 'hyperthyroidism': 701, 'citizen': 702, 'developmentaid': 703, 'privatization': 704, 'assessments': 705, 'level': 706, 'drone': 707, 'clean': 708, 'need': 709, 'shelter': 710, 'laborer': 711, 'missionary': 712, 'nutritionist': 713, 'pain': 714, 'work': 715, 'hospitals': 716, 'asian': 717, 'ascites': 718, 'piracy': 719, 'road': 720, 'notary': 721, 'occlusion': 722, 'violations': 723, 'warrior': 724, 'cash': 725, 'facilitation': 726, 'convener': 727, 'infectious': 728, 'waivers': 729, 'lymphoma': 730, 'confiscation': 731, 'scandal': 732, 'businessman': 733, 'cluster': 734, 'dollar': 735, 'army': 736, 'administrative': 737, 'submarine': 738, 'rabies': 739, 'mice': 740, 'clerk': 741, 'cyber': 742, 'liberation': 743, 'cirrhosis': 744, 'atrophy': 745, 'refugees': 746, 'people': 747, 'latin': 748, 'bread': 749, 'checkpoint': 750, 'preschool': 751, 'fishery': 752, 'allergy': 753, 'representatives': 754, 'canadian': 755, 'singer': 756, 'payments': 757, 'scholarships': 758, 'hydropower': 759, 'leaders': 760, 'facility': 761, 'blockade': 762, 'treasury': 763, 'necrosis': 764, 'expressregret': 765, 'retaliate': 766, 'turtle': 767, 'bitcoin': 768, 'consumer': 769, 'transportation': 770, 'pest': 771, 'cost': 772, 'rebel': 773, 'female': 774, 'neuropathy': 775, 'arbitration': 776, 'pesticides': 777, 'duck': 778, 'hydro': 779, 'waterways': 780, 'treaties': 781, 'worker': 782, 'equity': 783, 'foreigninvest': 784, 'literacy': 785, 'drought': 786, 'pirate': 787, 'inspectors': 788, 'bronchitis': 789, 'syncope': 790, 'unions': 791, 'responses': 792, 'agingpopulation': 793, 'victims': 794, 'veterans': 795, 'swine': 796, 'intracranial': 797, 'balance': 798, 'smuggle': 799, 'hemorrhage': 800, 'rabbit': 801, 'tertiary': 802, 'fertilizers': 803, 'windpower': 804, 'coordinator': 805, 'data': 806, 'midwives': 807, 'princess': 808, 'live': 809, 'rebellion': 810, 'lady': 811, 'servers': 812, 'indian': 813, 'respiratory': 814, 'champion': 815, 'diplomrecog': 816, 'care': 817, 'mental': 818, 'bully': 819, 'pipelines': 820, 'leukemia': 821, 'dehydration': 822, 'erosion': 823, 'buddhism': 824, 'vice': 825, 'teachers': 826, 'myocardial': 827, 'deer': 828, 'reserve': 829, 'ulcers': 830, 'linkages': 831, 'scholar': 832, 'gout': 833, 'volcano': 834, 'student': 835, 'pancreatitis': 836, 'nickel': 837, 'reconciliation': 838, 'commissar': 839, 'laos': 840, 'nuclear': 841, 'congenital': 842, 'overweight': 843, 'myeloma': 844, 'gastrointestinal': 845, 'supporters': 846, 'ussecurityagencies': 847, 'manage': 848, 'turkish': 849, 'encryption': 850, 'colonel': 851, 'boycott': 852, 'chain': 853, 'tariff': 854, 'snake': 855, 'measure': 856, 'inspectorate': 857, 'overseer': 858, 'hackers': 859, 'strike': 860, 'editors': 861, 'lieutenant': 862, 'zinc': 863, 'technical': 864, 'italian': 865, 'contraction': 866, 'austerity': 867, 'essential': 868, 'medicine': 869, 'leopard': 870, 'epilepsy': 871, 'impact': 872, 'congestion': 873, 'rhinitis': 874, 'panda': 875, 'goose': 876, 'anemia': 877, 'benefit': 878, 'intern': 879, 'whale': 880, 'dictatorship': 881, 'culprit': 882, 'minimum': 883, 'menopause': 884, 'source': 885, 'tsunami': 886, 'burma': 887, 'islam': 888, 'hmong': 889, 'insurgents': 890, 'product': 891, 'veto': 892, 'treasurer': 893, 'potatoes': 894, 'aircraft': 895, 'asset': 896, 'electricalgeneration': 897, 'refineries': 898, 'photographer': 899, 'shrimp': 900, 'carrier': 901, 'surveillance': 902, 'attendants': 903, 'abscess': 904, 'uremia': 905, 'spend': 906, 'environmental': 907, 'liberalization': 908, 'blue': 909, 'companion': 910, 'early': 911, 'legalize': 912, 'mandarin': 913, 'renal': 914, 'spondylosis': 915, 'hakka': 916, 'thief': 917, 'geese': 918, 'commissioner': 919, 'broker': 920, 'terrorism': 921, 'home': 922, 'jail': 923, 'painter': 924, 'leave': 925, 'slum': 926, 'guerrillas': 927, 'cherokee': 928, 'neuralgia': 929, 'selfemployed': 930, 'malay': 931, 'thromboembolism': 932, 'territorial': 933, 'democratic': 934, 'vomit': 935, 'politicians': 936, 'commodities': 937, 'excavator': 938, 'staff': 939, 'politician': 940, 'contributory': 941, 'spatial': 942, 'contract': 943, 'manchu': 944, 'thai': 945, 'screenwriter': 946, 'fishermen': 947, 'open': 948, 'witch': 949, 'massachusetts': 950, 'regions': 951, 'liang': 952, 'varicose': 953, 'vein': 954, 'sexual': 955, 'hurricane': 956, 'tourist': 957, 'astronaut': 958, 'grievances': 959, 'diplomats': 960, 'survival': 961, 'butler': 962, 'osteoporosis': 963, 'maternity': 964, 'outsource': 965, 'crab': 966, 'uighur': 967, 'waste': 968, 'slavery': 969, 'vandalize': 970, 'ceasefire': 971, 'quarantine': 972, 'solid': 973, 'vasculitis': 974, 'substance': 975, 'spanish': 976, 'closure': 977, 'alcohol': 978, 'xiang': 979, 'intrinsic': 980, 'virus': 981, 'destroyer': 982, 'condition': 983, 'spokesman': 984, 'cities': 985, 'cerebral': 986, 'warship': 987, 'temporary': 988, 'liver': 989, 'organizers': 990, 'remittance': 991, 'drown': 992, 'fool': 993, 'russians': 994, 'freedoms': 995, 'clavicle': 996, 'goldprice': 997, 'ulcerative': 998, 'lhasa': 999, 'zebra': 1000, 'dump': 1001, 'poet': 1002, 'antitrust': 1003, 'gallbladder': 1004, 'apprentice': 1005, 'senator': 1006, 'disasters': 1007, 'referee': 1008, 'worldarachnids': 1009, 'catholic': 1010, 'abdominal': 1011, 'emergencyroom': 1012, 'elders': 1013, 'killer': 1014, 'dyspnea': 1015, 'analysis': 1016, 'procurement': 1017, 'waiter': 1018, 'freetrade': 1019, 'australian': 1020, 'indiginous': 1021, 'analysts': 1022, 'dizziness': 1023, 'money': 1024, 'craftsman': 1025, 'hemophilia': 1026, 'herpes': 1027, 'orderly': 1028, 'cross': 1029, 'critic': 1030, 'repairer': 1031, 'bird': 1032, 'structure': 1033, 'shark': 1034, 'adenocarcinoma': 1035, 'value': 1036, 'pathogens': 1037, 'knight': 1038, 'sorghum': 1039, 'internet': 1040, 'efficiency': 1041, 'office': 1042, 'miao': 1043, 'take': 1044, 'multiple': 1045, 'death': 1046, 'fuelprices': 1047, 'firearms': 1048, 'gentleman': 1049, 'cholesterol': 1050, 'warn': 1051, 'mobile': 1052, 'credit': 1053, 'nausea': 1054, 'river': 1055, 'domestic': 1056, 'gastritis': 1057, 'crackdown': 1058, 'huizhou': 1059, 'bride': 1060, 'slave': 1061, 'operator': 1062, 'premature': 1063, 'sweet': 1064, 'heat': 1065, 'fibrosis': 1066, 'jinhua': 1067, 'amputation': 1068, 'taxi': 1069, 'insomnia': 1070, 'chef': 1071, 'infertility': 1072, 'ukrainian': 1073, 'cheetah': 1074, 'moneylaundering': 1075, 'launder': 1076, 'swan': 1077, 'mouse': 1078, 'curator': 1079, 'hypotension': 1080, 'mineral': 1081, 'cartels': 1082, 'buddhist': 1083, 'supervision': 1084, 'penalty': 1085, 'taliban': 1086, 'release': 1087, 'hostage': 1088, 'coma': 1089, 'yellow': 1090, 'explosives': 1091, 'polish': 1092, 'granulomas': 1093, 'myopia': 1094, 'rail': 1095, 'attendant': 1096, 'support': 1097, 'admiral': 1098, 'pulmonary': 1099, 'porpoises': 1100, 'christian': 1101, 'servicesneededoffered': 1102, 'hemoptysis': 1103, 'cardiomyopathy': 1104, 'malaria': 1105, 'investor': 1106, 'esophagitis': 1107, 'greek': 1108, 'breastfeed': 1109, 'allocation': 1110, 'hyperthermia': 1111, 'stromal': 1112, 'tumors': 1113, 'epidemiology': 1114, 'confucianism': 1115, 'colitis': 1116, 'needsprovide': 1117, 'nanny': 1118, 'foreignbanks': 1119, 'potato': 1120, 'pathologist': 1121, 'heatingoil': 1122, 'scleroderma': 1123, 'pension': 1124, 'shishi': 1125, 'pleural': 1126, 'effusion': 1127, 'otitis': 1128, 'landslide': 1129, 'econcoop': 1130, 'vulnerable': 1131, 'inclusive': 1132, 'accountability': 1133, 'registrar': 1134, 'iranian': 1135, 'envoy': 1136, 'indigenous': 1137, 'repatriation': 1138, 'adhesions': 1139, 'desertification': 1140, 'mechanisms': 1141, 'instructor': 1142, 'crayfish': 1143, 'warriors': 1144, 'courier': 1145, 'militia': 1146, 'middle': 1147, 'marshal': 1148, 'shoulder': 1149, 'nonmetallic': 1150, 'quarry': 1151, 'flight': 1152, 'chill': 1153, 'arabic': 1154, 'orphan': 1155, 'conventional': 1156, 'unemployed': 1157, 'islamic': 1158, 'jaundice': 1159, 'unsafe': 1160, 'parasitic': 1161, 'workingclass': 1162, 'duke': 1163, 'density': 1164, 'anal': 1165, 'fissure': 1166, 'remittances': 1167, 'priest': 1168, 'humanitarian': 1169, 'simplification': 1170, 'earthquakes': 1171, 'adminstrative': 1172, 'colorectal': 1173, 'soybeans': 1174, 'sergeant': 1175, 'tool': 1176, 'impetigo': 1177, 'measurement': 1178, 'tenure': 1179, 'mobility': 1180, 'musician': 1181, 'firemen': 1182, 'pharyngitis': 1183, 'delegate': 1184, 'walker': 1185, 'grand': 1186, 'cereals': 1187, 'bananas': 1188, 'democrats': 1189, 'class': 1190, 'tonic': 1191, 'blizzard': 1192, 'composer': 1193, 'dysmenorrhea': 1194, 'microfinance': 1195, 'msme': 1196, 'haida': 1197, 'drivers': 1198, 'middleclass': 1199, 'trafficaccident': 1200, 'exile': 1201, 'virtualreality': 1202, 'germans': 1203, 'lecturer': 1204, 'vietnamese': 1205, 'hemiplegia': 1206, 'impeachment': 1207, 'counselor': 1208, 'palestinian': 1209, 'pharmaceutical': 1210, 'primary': 1211, 'jewish': 1212, 'artillery': 1213, 'displace': 1214, 'peasant': 1215, 'derailment': 1216, 'mongolian': 1217, 'flare': 1218, 'turmoil': 1219, 'eruption': 1220, 'build': 1221, 'orthodox': 1222, 'koala': 1223, 'programmer': 1224, 'webmaster': 1225, 'messenger': 1226, 'taoist': 1227, 'monk': 1228, 'self': 1229, 'sheriff': 1230, 'angie': 1231, 'angina': 1232, 'endometriosis': 1233, 'bankruptcy': 1234, 'anyang': 1235, 'head': 1236, 'agriculharminsects': 1237, 'biofuel': 1238, 'cowboy': 1239, 'outage': 1240, 'migraine': 1241, 'samaritan': 1242, 'salmon': 1243, 'labour': 1244, 'christians': 1245, 'dolphin': 1246, 'control': 1247, 'wizard': 1248, 'member': 1249, 'hemorrhagic': 1250, 'groom': 1251, 'trader': 1252, 'branchless': 1253, 'lobster': 1254, 'crescent': 1255, 'decision': 1256, 'encephalopathy': 1257, 'prosecutor': 1258, 'audit': 1259, 'peasants': 1260, 'laborers': 1261, 'makers': 1262, 'freetradeagreements': 1263, 'azerbaijan': 1264, 'cooperation': 1265, 'hypoxia': 1266, 'tujia': 1267, 'disarmament': 1268, 'reintegration': 1269, 'phone': 1270, 'blindness': 1271, 'flush': 1272, 'chop': 1273, 'pope': 1274, 'prostitute': 1275, 'drive': 1276, 'marginalize': 1277, 'facial': 1278, 'cant': 1279, 'armyworm': 1280, 'uyghur': 1281, 'aquaculture': 1282, 'contagious': 1283, 'defection': 1284, 'copilot': 1285, 'occult': 1286, 'relations': 1287, 'battleship': 1288, 'transitional': 1289, 'lawmakers': 1290, 'complications': 1291, 'veterinarian': 1292, 'regulators': 1293, 'stamp': 1294, 'fasciitis': 1295, 'relief': 1296, 'salesman': 1297, 'traditional': 1298, 'adviser': 1299, 'corporate': 1300, 'spider': 1301, 'arson': 1302, 'force': 1303, 'ethiopian': 1304, 'historian': 1305, 'bigdata': 1306, 'censorship': 1307, 'hallucinations': 1308, 'lgbt': 1309, 'geothermal': 1310, 'emergingecon': 1311, 'sarcoma': 1312, 'pistol': 1313, 'internal': 1314, 'dongo': 1315, 'treason': 1316, 'fatty': 1317, 'slow': 1318, 'neuritis': 1319, 'rash': 1320, 'chest': 1321, 'process': 1322, 'persian': 1323, 'investigator': 1324, 'airway': 1325, 'obstruction': 1326, 'storm': 1327, 'kansas': 1328, 'loot': 1329, 'mercenaries': 1330, 'restructure': 1331, 'tornado': 1332, 'christianity': 1333, 'tropical': 1334, 'crisis': 1335, 'dialogue': 1336, 'bursitis': 1337, 'polarize': 1338, 'economists': 1339, 'electrician': 1340, 'lions': 1341, 'cataract': 1342, 'rubles': 1343, 'back': 1344, 'company': 1345, 'tissue': 1346, 'superman': 1347, 'indonesian': 1348, 'farmer': 1349, 'bacterial': 1350, 'pesos': 1351, 'biofuels': 1352, 'twin': 1353, 'sign': 1354, 'equality': 1355, 'herdsmen': 1356, 'project': 1357, 'architect': 1358, 'hydromet': 1359, 'armor': 1360, 'deficiency': 1361, 'nominee': 1362, 'detective': 1363, 'cashier': 1364, 'ombudsman': 1365, 'ombudsmen': 1366, 'assessment': 1367, 'gasolineprice': 1368, 'treatment': 1369, 'advertisers': 1370, 'veteran': 1371, 'phagocytosis': 1372, 'demand': 1373, 'hyperemia': 1374, 'poach': 1375, 'analgesia': 1376, 'free': 1377, 'rectum': 1378, 'philosopher': 1379, 'minorities': 1380, 'examiner': 1381, 'blood': 1382, 'shiite': 1383, 'hamlet': 1384, 'link': 1385, 'pipeline': 1386, 'entry': 1387, 'startup': 1388, 'employee': 1389, 'publisher': 1390, 'whaler': 1391, 'mites': 1392, 'leung': 1393, 'performer': 1394, 'language': 1395, 'employers': 1396, 'mongol': 1397, 'violent': 1398, 'barley': 1399, 'identify': 1400, 'protect': 1401, 'union': 1402, 'portuguese': 1403, 'convulsions': 1404, 'breadwinner': 1405, 'downstream': 1406, 'corporal': 1407, 'customs': 1408, 'dodo': 1409, 'soviets': 1410, 'jews': 1411, 'hunter': 1412, 'journalist': 1413, 'servant': 1414, 'dislocation': 1415, 'activist': 1416, 'miners': 1417, 'maid': 1418, 'monsoon': 1419, 'palestinians': 1420, 'canada': 1421, 'mosque': 1422, 'mechanic': 1423, 'section': 1424, 'pneumoconiosis': 1425, 'americans': 1426, 'makestatement': 1427, 'corn': 1428, 'impotence': 1429, 'legumes': 1430, 'brigadier': 1431, 'export': 1432, 'choreographer': 1433, 'reclamation': 1434, 'dancer': 1435, 'chancellor': 1436, 'physicist': 1437, 'navigator': 1438, 'tick': 1439, 'helper': 1440, 'snow': 1441, 'strong': 1442, 'honor': 1443, 'accident': 1444, 'hematoma': 1445, 'ejaculation': 1446, 'ching': 1447, 'tutor': 1448, 'mali': 1449, 'blacksmith': 1450, 'warhead': 1451, 'crocodile': 1452, 'fascism': 1453, 'street': 1454, 'healthy': 1455, 'missile': 1456, 'landslides': 1457, 'phlebitis': 1458, 'salesperson': 1459, 'mechanics': 1460, 'ambassadors': 1461, 'nations': 1462, 'extreme': 1463, 'regulator': 1464, 'olive': 1465, 'crow': 1466, 'freespeech': 1467, 'fingerprint': 1468, 'natgasprice': 1469, 'unite': 1470, 'hand': 1471, 'striker': 1472, 'carp': 1473, 'wildfire': 1474, 'cruise': 1475, 'consul': 1476, 'explorer': 1477, 'hermit': 1478, 'viral': 1479, 'hamas': 1480, 'coronaviruses': 1481, 'mend': 1482, 'expenditure': 1483, 'settlers': 1484, 'interior': 1485, 'plague': 1486, 'stunt': 1487, 'managers': 1488, 'family': 1489, 'valet': 1490, 'metaplasia': 1491, 'lutheran': 1492, 'snowstorm': 1493, 'deal': 1494, 'sustainability': 1495, 'rohingya': 1496, 'prophet': 1497, 'reparations': 1498, 'seagull': 1499, 'pathogen': 1500, 'bishop': 1501, 'lawyers': 1502, 'tetanus': 1503, 'irish': 1504, 'duma': 1505, 'langya': 1506, 'marine': 1507, 'teller': 1508, 'aviation': 1509, 'report': 1510, 'housewife': 1511, 'luanda': 1512, 'prisoner': 1513, 'mistress': 1514, 'wolves': 1515, 'muslims': 1516, 'sanyo': 1517, 'cowherd': 1518, 'mediator': 1519, 'toll': 1520, 'tongan': 1521, 'uyghurs': 1522, 'financier': 1523, 'torpedo': 1524, 'application': 1525, 'wild': 1526, 'demobilization': 1527, 'demobilisation': 1528, 'reformers': 1529, 'xishuangbanna': 1530, 'tigers': 1531, 'cyclone': 1532, 'giant': 1533, 'calligrapher': 1534, 'ganzi': 1535, 'seaman': 1536, 'skunk': 1537, 'members': 1538, 'dehong': 1539, 'ratify': 1540, 'magistrate': 1541, 'survey': 1542, 'boar': 1543, 'retail': 1544, 'wrangler': 1545, 'diplomat': 1546, 'noise': 1547, 'bumblebee': 1548, 'barber': 1549, 'activists': 1550, 'craftsmen': 1551, 'benin': 1552, 'indonesians': 1553, 'muscle': 1554, 'deflation': 1555, 'polar': 1556, 'astronomer': 1557, 'affirmative': 1558, 'disenfranchise': 1559, 'translator': 1560, 'governors': 1561, 'schizophrenia': 1562, 'spokeswoman': 1563, 'avalanche': 1564, 'breeder': 1565, 'afghan': 1566, 'bodyguard': 1567, 'trademark': 1568, 'electronic': 1569, 'medicaltourism': 1570, 'goldsmith': 1571, 'uygur': 1572, 'houthis': 1573, 'study': 1574, 'robber': 1575, 'direct': 1576, 'revenue': 1577, 'catholics': 1578, 'census': 1579, 'emerg': 1580, 'kelon': 1581, 'dermatitis': 1582, 'swedish': 1583, 'notre': 1584, 'stewardship': 1585, 'krone': 1586, 'somali': 1587, 'dutch': 1588, 'point': 1589, 'sucker': 1590, 'federal': 1591, 'defense': 1592, 'seamen': 1593, 'mitigation': 1594, 'eczema': 1595, 'palsy': 1596, 'presidents': 1597, 'film': 1598, 'shepherd': 1599, 'tungsten': 1600, 'sales': 1601, 'account': 1602, 'supercomputing': 1603, 'counsellor': 1604, 'meningitis': 1605, 'multimodal': 1606, 'arrhythmia': 1607, 'frostbite': 1608, 'comptroller': 1609, 'major': 1610, 'polyps': 1611, 'alcoholism': 1612, 'birth': 1613, 'fisherman': 1614, 'preferential': 1615, 'proliferation': 1616, 'superintendent': 1617, 'bailiff': 1618, 'artists': 1619, 'yield': 1620, 'algerian': 1621, 'miscarriage': 1622, 'princes': 1623, 'houthi': 1624, 'mantis': 1625, 'extrajudicial': 1626, 'kuomintang': 1627, 'koreans': 1628, 'protestant': 1629, 'crown': 1630, 'bulgarian': 1631, 'banker': 1632, 'defect': 1633, 'pardon': 1634, 'regional': 1635, 'lava': 1636, 'carbon': 1637, 'auditor': 1638, 'moroccan': 1639, 'flatulence': 1640, 'post': 1641, 'reconstruction': 1642, 'dieselprice': 1643, 'goat': 1644, 'park': 1645, 'filipino': 1646, 'privacy': 1647, 'insurgency': 1648, 'machine': 1649, 'defectors': 1650, 'bolivia': 1651, 'oxfam': 1652, 'locusts': 1653, 'goats': 1654, 'camp': 1655, 'ecosystem': 1656, 'electricaldemand': 1657, 'agreement': 1658, 'goldfish': 1659, 'carcinoma': 1660, 'kwong': 1661, 'ultimatum': 1662, 'mother': 1663, 'sailors': 1664, 'kazakhs': 1665, 'trainer': 1666, 'norwegian': 1667, 'amnesia': 1668, 'kazakh': 1669, 'secondary': 1670, 'religious': 1671, 'hypertrophy': 1672, 'miner': 1673, 'worldmyriapoda': 1674, 'naturalization': 1675, 'payment': 1676, 'mongols': 1677, 'levees': 1678, 'placenta': 1679, 'centipede': 1680, 'inventor': 1681, 'famine': 1682, 'porter': 1683, 'impersonator': 1684, 'enablers': 1685, 'incubators': 1686, 'accelerators': 1687, 'competitiveness': 1688, 'neck': 1689, 'rakhine': 1690, 'bass': 1691, 'anthrax': 1692, 'rhabdomyosarcoma': 1693, 'speciesendangered': 1694, 'florist': 1695, 'sunni': 1696, 'dictator': 1697, 'dime': 1698, 'venezuelan': 1699, 'psychologist': 1700, 'prostatitis': 1701, 'dentist': 1702, 'volcanic': 1703, 'supplementary': 1704, 'sailor': 1705, 'share': 1706, 'knowledge': 1707, 'autism': 1708, 'guagu': 1709, 'cramp': 1710, 'bandit': 1711, 'tuberculosis': 1712, 'pinyin': 1713, 'matchmaker': 1714, 'mercenary': 1715, 'ethnic': 1716, 'monoxide': 1717, 'counter': 1718, 'pianist': 1719, 'admiralty': 1720, 'goods': 1721, 'bladder': 1722, 'cyst': 1723, 'chickenpox': 1724, 'puyuma': 1725, 'hindu': 1726, 'alzheimers': 1727, 'biologist': 1728, 'intelligence': 1729, 'priests': 1730, 'grids': 1731, 'tear': 1732, 'race': 1733, 'diversification': 1734, 'butcher': 1735, 'whoop': 1736, 'incumbent': 1737, 'stability': 1738, 'definition': 1739, 'council': 1740, 'creation': 1741, 'educators': 1742, 'stingray': 1743, 'austrian': 1744, 'coconut': 1745, 'diphtheria': 1746, 'charasmatic': 1747, 'leadership': 1748, 'concentration': 1749, 'industrialist': 1750, 'policymakers': 1751, 'body': 1752, 'adenoma': 1753, 'tonsillitis': 1754, 'foundation': 1755, 'board': 1756, 'aftershock': 1757, 'encephalitis': 1758, 'indians': 1759, 'gangster': 1760, 'transformation': 1761, 'miyako': 1762, 'tuna': 1763, 'philanthropist': 1764, 'tremor': 1765, 'special': 1766, 'kenyan': 1767, 'sardines': 1768, 'nene': 1769, 'lead': 1770, 'athlete': 1771, 'waipu': 1772, 'cold': 1773, 'severe': 1774, 'continuum': 1775, 'cloud': 1776, 'return': 1777, 'jihad': 1778, 'gentlemen': 1779, 'merlin': 1780, 'robbers': 1781, 'deforestation': 1782, 'buddhists': 1783, 'ureter': 1784, 'fuel': 1785, 'marshall': 1786, 'warlord': 1787, 'methane': 1788, 'short': 1789, 'pollutants': 1790, 'bain': 1791, 'separatists': 1792, 'unicef': 1793, 'mortar': 1794, 'bard': 1795, 'illustrator': 1796, 'collapse': 1797, 'croaker': 1798, 'liberal': 1799, 'mauritania': 1800, 'raccoon': 1801, 'crew': 1802, 'crash': 1803, 'altay': 1804, 'alabama': 1805, 'aggressor': 1806, 'hawkers': 1807, 'smallpox': 1808, 'shotgun': 1809, 'life': 1810, 'operate': 1811, 'thieve': 1812, 'scribe': 1813, 'janitor': 1814, 'grenade': 1815, 'adolescent': 1816, 'earn': 1817, 'estonian': 1818, 'nafta': 1819, 'chefs': 1820, 'transboundary': 1821, 'mathematician': 1822, 'failures': 1823, 'whistleblower': 1824, 'acidosis': 1825, 'explosion': 1826, 'cholera': 1827, 'seafarers': 1828, 'nepalese': 1829, 'front': 1830, 'asians': 1831, 'mogao': 1832, 'myocarditis': 1833, 'skin': 1834, 'corridors': 1835, 'standardbearer': 1836, 'sungai': 1837, 'chemical': 1838, 'novelist': 1839, 'diffusion': 1840, 'clown': 1841, 'tajik': 1842, 'deacon': 1843, 'hematuria': 1844, 'peso': 1845, 'lithuanian': 1846, 'preacher': 1847, 'esophagus': 1848, 'educator': 1849, 'bachelor': 1850, 'strabismus': 1851, 'finnish': 1852, 'umpire': 1853, 'cleave': 1854, 'palate': 1855, 'counterfeit': 1856, 'cardinal': 1857, 'coach': 1858, 'mahayana': 1859, 'specialdeath': 1860, 'childhood': 1861, 'prefect': 1862, 'republicans': 1863, 'bridesmaid': 1864, 'cambodian': 1865, 'pneumothorax': 1866, 'squirrel': 1867, 'supporter': 1868, 'earningsreport': 1869, 'sclerosis': 1870, 'racism': 1871, 'gray': 1872, 'soft': 1873, 'wardens': 1874, 'tibetans': 1875, 'recurrence': 1876, 'anticartel': 1877, 'gate': 1878, 'salmonella': 1879, 'kangaroo': 1880, 'haemophilus': 1881, 'influenzae': 1882, 'rental': 1883, 'safeguard': 1884, 'external': 1885, 'mentally': 1886, 'aftershocks': 1887, 'retirements': 1888, 'lizard': 1889, 'giraffe': 1890, 'ransom': 1891, 'lyricist': 1892, 'commando': 1893, 'caregiver': 1894, 'australians': 1895, 'suspiciouspackage': 1896, 'myelitis': 1897, 'household': 1898, 'concierge': 1899, 'landlocked': 1900, 'countries': 1901, 'thyroid': 1902, 'croatian': 1903, 'senior': 1904, 'maldivian': 1905, 'sinusitis': 1906, 'archaeologist': 1907, 'arabs': 1908, 'maintenance': 1909, 'aphids': 1910, 'cholecystitis': 1911, 'vitiligo': 1912, 'african': 1913, 'loan': 1914, 'girl': 1915, 'scorpions': 1916, 'borei': 1917, 'dolphins': 1918, 'firearm': 1919, 'ownership': 1920, 'cannon': 1921, 'freight': 1922, 'meet': 1923, 'oregon': 1924, 'inequality': 1925, 'cereal': 1926, 'mallard': 1927, 'things': 1928, 'housekeeper': 1929, 'organ': 1930, 'reformist': 1931, 'prawn': 1932, 'institutional': 1933, 'propane': 1934, 'catfish': 1935, 'warm': 1936, 'spring': 1937, 'measles': 1938, 'pastor': 1939, 'socialist': 1940, 'fijian': 1941, 'tamil': 1942, 'drummer': 1943, 'taroko': 1944, 'polysaccharide': 1945, 'buyei': 1946, 'resistance': 1947, 'foreman': 1948, 'deposit': 1949, 'dari': 1950, 'current': 1951, 'perch': 1952, 'qatari': 1953, 'smelter': 1954, 'resettlement': 1955, 'nationalist': 1956, 'lira': 1957, 'roach': 1958, 'expectancy': 1959, 'architects': 1960, 'sick': 1961, 'association': 1962, 'dispatcher': 1963, 'welder': 1964, 'machete': 1965, 'lawmaker': 1966, 'fodder': 1967, 'arbor': 1968, 'collaboration': 1969, 'cowboys': 1970, 'contraceptives': 1971, 'electricalprice': 1972, 'diaphragm': 1973, 'modifier': 1974, 'kacha': 1975, 'urticaria': 1976, 'separatist': 1977, 'relate': 1978, 'chiefs': 1979, 'steward': 1980, 'comedian': 1981, 'actuary': 1982, 'tien': 1983, 'therapist': 1984, 'wildcats': 1985, 'catcher': 1986, 'chlamydia': 1987, 'fighter': 1988, 'terrier': 1989, 'erythema': 1990, 'nasopharyngeal': 1991, 'ngari': 1992, 'atheism': 1993, 'sunda': 1994, 'distributor': 1995, 'compute': 1996, 'cheerleaders': 1997, 'stonethrowing': 1998, 'palestine': 1999, 'geological': 2000, 'hysteria': 2001, 'malnutrition': 2002, 'farm': 2003, 'schistosomiasis': 2004, 'dengue': 2005, 'technicians': 2006, 'echinococcosis': 2007, 'physicians': 2008, 'melanoma': 2009, 'mycoplasma': 2010, 'dholuo': 2011, 'buildup': 2012, 'traumatic': 2013, 'wave': 2014, 'dystocia': 2015, 'gardener': 2016, 'appraiser': 2017, 'runner': 2018, 'mole': 2019, 'legislator': 2020, 'nephritis': 2021, 'canvasser': 2022, 'paraplegia': 2023, 'helpers': 2024, 'southeast': 2025, 'liquidation': 2026, 'host': 2027, 'relationship': 2028, 'postman': 2029, 'shellfish': 2030, 'liyang': 2031, 'jockey': 2032, 'bubble': 2033, 'antitank': 2034, 'deutsch': 2035, 'columnists': 2036, 'demonstrators': 2037, 'farsightedness': 2038, 'metabolic': 2039, 'chemist': 2040, 'biodiversity': 2041, 'golden': 2042, 'participation': 2043, 'europeans': 2044, 'sculptor': 2045, 'hemorrhoids': 2046, 'belgian': 2047, 'warden': 2048, 'andhra': 2049, 'ostrich': 2050, 'pervert': 2051, 'tenda': 2052, 'mountaineer': 2053, 'selfimmolation': 2054, 'brotherhood': 2055, 'latvian': 2056, 'marriage': 2057, 'constitution': 2058, 'surinamese': 2059, 'porpoise': 2060, 'conservative': 2061, 'consultants': 2062, 'magician': 2063, 'eruptions': 2064, 'dominicans': 2065, 'winter': 2066, 'glaucoma': 2067, 'lackeys': 2068, 'housemaid': 2069, 'plantdisease': 2070, 'decapitation': 2071, 'smog': 2072, 'technologysector': 2073, 'nuclearpower': 2074, 'oroqen': 2075, 'banda': 2076, 'gunsmith': 2077, 'stomach': 2078, 'expresident': 2079, 'vision': 2080, 'boxer': 2081, 'walrus': 2082, 'burnout': 2083, 'watch': 2084, 'mason': 2085, 'paratroopers': 2086, 'envoys': 2087, 'shashi': 2088, 'clergy': 2089, 'celtic': 2090, 'european': 2091, 'playwright': 2092, 'shira': 2093, 'shixing': 2094, 'lombok': 2095, 'iranians': 2096, 'wound': 2097, 'sleeper': 2098, 'squads': 2099, 'insurgent': 2100, 'bartender': 2101, 'occupational': 2102, 'womens': 2103, 'franc': 2104, 'retailer': 2105, 'input': 2106, 'magma': 2107, 'provost': 2108, 'ruble': 2109, 'gollum': 2110, 'sudanese': 2111, 'jiarong': 2112, 'nepali': 2113, 'area': 2114, 'silversmith': 2115, 'revisionist': 2116, 'boat': 2117, 'star': 2118, 'pangu': 2119, 'statesman': 2120, 'daash': 2121, 'toothache': 2122, 'strategic': 2123, 'immigrant': 2124, 'mass': 2125, 'electricalgrid': 2126, 'oriental': 2127, 'stork': 2128, 'bridge': 2129, 'eagle': 2130, 'cartoonist': 2131, 'factory': 2132, 'elder': 2133, 'chuang': 2134, 'stimulus': 2135, 'fortune': 2136, 'chairperson': 2137, 'kuang': 2138, 'canadians': 2139, 'praetor': 2140, 'refugee': 2141, 'generic': 2142, 'septicemia': 2143, 'disruptive': 2144, 'intergovernmental': 2145, 'appendicitis': 2146, 'first': 2147, 'ludian': 2148, 'stutter': 2149, 'madang': 2150, 'quartermaster': 2151, 'skilled': 2152, 'botanist': 2153, 'rotavirus': 2154, 'pound': 2155, 'liquefy': 2156, 'deworming': 2157, 'hyperlipidemia': 2158, 'reindeer': 2159, 'spokeswomen': 2160, 'hygienist': 2161, 'best': 2162, 'kiribati': 2163, 'khmer': 2164, 'reservoirs': 2165, 'versus': 2166, 'daur': 2167, 'greeks': 2168, 'helmsman': 2169, 'bitter': 2170, 'branch': 2171, 'beautician': 2172, 'librarian': 2173, 'statistician': 2174, 'columnist': 2175, 'geologist': 2176, 'intelsharing': 2177, 'peruvian': 2178, 'politico': 2179, 'registration': 2180, 'arranger': 2181, 'expenditures': 2182, 'british': 2183, 'hawk': 2184, 'feminist': 2185, 'midwife': 2186, 'presbyopia': 2187, 'sable': 2188, 'bangladeshi': 2189, 'upstream': 2190, 'genocide': 2191, 'country': 2192, 'pakatan': 2193, 'sicken': 2194, 'leopards': 2195, 'danish': 2196, 'cassava': 2197, 'intelligencer': 2198, 'issue': 2199, 'milkfish': 2200, 'throat': 2201, 'baloch': 2202, 'chorea': 2203, 'part': 2204, 'time': 2205, 'adventist': 2206, 'interviewer': 2207, 'hungarians': 2208, 'slaughterer': 2209, 'albanian': 2210, 'sami': 2211, 'bharatiya': 2212, 'janata': 2213, 'osprey': 2214, 'dysentery': 2215, 'judicial': 2216, 'lackey': 2217, 'league': 2218, 'charge': 2219, 'daffaires': 2220, 'tooth': 2221, 'fisher': 2222, 'paraguayan': 2223, 'personnel': 2224, 'colombian': 2225, 'model': 2226, 'crimes': 2227, 'sickness': 2228, 'icelandic': 2229, 'individual': 2230, 'cher': 2231, 'enteritis': 2232, 'selection': 2233, 'furan': 2234, 'crohn': 2235, 'loach': 2236, 'fatah': 2237, 'amblyopia': 2238, 'polio': 2239, 'unconsciousness': 2240, 'forceposture': 2241, 'poliomyelitis': 2242, 'achang': 2243, 'hodgkin': 2244, 'susu': 2245, 'humanity': 2246, 'lifeguard': 2247, 'engine': 2248, 'vocational': 2249, 'anesthesiologist': 2250, 'tilapia': 2251, 'canal': 2252, 'hammerhead': 2253, 'hungarian': 2254, 'insolvency': 2255, 'creditor': 2256, 'reflux': 2257, 'subsystems': 2258, 'syphilis': 2259, 'ceiling': 2260, 'shutdown': 2261, 'fieldhospital': 2262, 'congressional': 2263, 'prolapse': 2264, 'wanda': 2265, 'counterfeitdrugs': 2266, 'emergshelter': 2267, 'press': 2268, 'fishermans': 2269, 'independence': 2270, 'repairman': 2271, 'yosemite': 2272, 'lifestyles': 2273, 'felons': 2274, 'lindau': 2275, 'motion': 2276, 'paleontologist': 2277, 'disorder': 2278, 'proprietor': 2279, 'suspiciouspeople': 2280, 'dungan': 2281, 'decay': 2282, 'announcer': 2283, 'coordinators': 2284, 'thematic': 2285, 'ppps': 2286, 'partnerships': 2287, 'psychological': 2288, 'culprits': 2289, 'carpenter': 2290, 'railroad': 2291, 'stillbirth': 2292, 'lifelong': 2293, 'learn': 2294, 'bajau': 2295, 'shakers': 2296, 'sich': 2297, 'trypanosomiasis': 2298, 'auditory': 2299, 'pituitary': 2300, 'synovial': 2301, 'assault': 2302, 'community': 2303, 'shill': 2304, 'advisers': 2305, 'herdsman': 2306, 'bosun': 2307, 'barb': 2308, 'databases': 2309, 'destruction': 2310, 'abadi': 2311, 'full': 2312, 'pakistan': 2313, 'negotiator': 2314, 'peddler': 2315, 'endocrine': 2316, 'tobacco': 2317, 'norovirus': 2318, 'movers': 2319, 'swiss': 2320, 'role': 2321, 'judicialcoop': 2322, 'landmine': 2323, 'orthodoxy': 2324, 'ripper': 2325, 'racist': 2326, 'anthropologist': 2327, 'torrential': 2328, 'euros': 2329, 'damage': 2330, 'leprosy': 2331, 'storyteller': 2332, 'copilots': 2333, 'caregivers': 2334, 'entertainer': 2335, 'gastroenteritis': 2336, 'plane': 2337, 'kyrgyz': 2338, 'warships': 2339, 'professors': 2340, 'psoriasis': 2341, 'wasps': 2342, 'lice': 2343, 'bluebird': 2344, 'maltese': 2345, 'huihui': 2346, 'acid': 2347, 'serbs': 2348, 'income': 2349, 'siyang': 2350, 'gunner': 2351, 'conservation': 2352, 'ecotourism': 2353, 'derail': 2354, 'gangsters': 2355, 'palau': 2356, 'asses': 2357, 'rabbi': 2358, 'phobia': 2359, 'interpreter': 2360, 'agribusiness': 2361, 'conservationist': 2362, 'progression': 2363, 'prosperity': 2364, 'mildew': 2365, 'professional': 2366, 'agronomist': 2367, 'assistants': 2368, 'policemen': 2369, 'radio': 2370, 'detectives': 2371, 'senators': 2372, 'lassa': 2373, 'accra': 2374, 'malays': 2375, 'palliative': 2376, 'swimmer': 2377, 'albinism': 2378, 'ulcer': 2379, 'councilman': 2380, 'welfare': 2381, 'obamacare': 2382, 'north': 2383, 'coptic': 2384, 'killers': 2385, 'squire': 2386, 'logger': 2387, 'baptist': 2388, 'scoliosis': 2389, 'earlymarriage': 2390, 'atheist': 2391, 'thrombosis': 2392, 'meteorologist': 2393, 'botulism': 2394, 'effective': 2395, 'bharat': 2396, 'catalan': 2397, 'hunters': 2398, 'japan': 2399, 'mortality': 2400, 'morbidity': 2401, 'autoimmune': 2402, 'mate': 2403, 'headmaster': 2404, 'siamese': 2405, 'hindus': 2406, 'ocean': 2407, 'plaice': 2408, 'emphysema': 2409, 'tour': 2410, 'khamis': 2411, 'shinrikyo': 2412, 'equestrian': 2413, 'stylist': 2414, 'lichen': 2415, 'courtiers': 2416, 'peon': 2417, 'guitarist': 2418, 'patriarch': 2419, 'constitutionalamendment': 2420, 'barrister': 2421, 'commanders': 2422, 'scale': 2423, 'prisons': 2424, 'field': 2425, 'hinduism': 2426, 'slavic': 2427, 'receptionist': 2428, 'curfew': 2429, 'scrutineer': 2430, 'bontoc': 2431, 'colic': 2432, 'court': 2433, 'oromo': 2434, 'counselors': 2435, 'indicators': 2436, 'statistics': 2437, 'york': 2438, 'timor': 2439, 'sociologist': 2440, 'aphasia': 2441, 'newpowerplant': 2442, 'macedonian': 2443, 'shin': 2444, 'path': 2445, 'whitefly': 2446, 'cagayan': 2447, 'brigade': 2448, 'formosan': 2449, 'shamen': 2450, 'ukrainians': 2451, 'yugoslavs': 2452, 'uighurs': 2453, 'missionaries': 2454, 'moth': 2455, 'swahili': 2456, 'empyema': 2457, 'polycystic': 2458, 'ovary': 2459, 'sioux': 2460, 'azerbaijani': 2461, 'macanese': 2462, 'stink': 2463, 'locksmith': 2464, 'chordoma': 2465, 'croats': 2466, 'trainers': 2467, 'vehicle': 2468, 'heartburn': 2469, 'undersecretary': 2470, 'bonesetter': 2471, 'keratitis': 2472, 'altai': 2473, 'secretaries': 2474, 'starvation': 2475, 'organisation': 2476, 'geographer': 2477, 'hindi': 2478, 'nandi': 2479, 'methodologies': 2480, 'mackerel': 2481, 'twister': 2482, 'synagogue': 2483, 'capacity': 2484, 'biocarbon': 2485, 'reduce': 2486, 'emissions': 2487, 'degradation': 2488, 'lecturers': 2489, 'villager': 2490, 'sleep': 2491, 'deprivation': 2492, 'witchcraft': 2493, 'print': 2494, 'mullet': 2495, 'powdery': 2496, 'nicobar': 2497, 'hyperhidrosis': 2498, 'target': 2499, 'sherwin': 2500, 'leftist': 2501, 'providers': 2502, 'reformer': 2503, 'optometrist': 2504, 'freelancer': 2505, 'thrush': 2506, 'discipline': 2507, 'painters': 2508, 'confucian': 2509, 'preparation': 2510, 'techniques': 2511, 'fisheries': 2512, 'tengu': 2513, 'blackfaced': 2514, 'spoonbill': 2515, 'alchemist': 2516, 'stone': 2517, 'judaism': 2518, 'renminbi': 2519, 'narwhal': 2520, 'cellist': 2521, 'truckers': 2522, 'pandemic': 2523, 'masons': 2524, 'hacker': 2525, 'factor': 2526, 'pontiff': 2527, 'aeruginosa': 2528, 'larynx': 2529, 'clergyman': 2530, 'rescue': 2531, 'divers': 2532, 'enrollment': 2533, 'groupie': 2534, 'jailer': 2535, 'leafhoppers': 2536, 'crusaders': 2537, 'shong': 2538, 'abandon': 2539, 'ship': 2540, 'amaranth': 2541, 'zambian': 2542, 'antibiotic': 2543, 'scabies': 2544, 'coastal': 2545, 'programme': 2546, 'disclosure': 2547, 'dietitian': 2548, 'heatwave': 2549, 'night': 2550, 'watchman': 2551, 'periodontitis': 2552, 'minesweeper': 2553, 'test': 2554, 'chairwoman': 2555, 'czechs': 2556, 'overfish': 2557, 'corporation': 2558, 'colombians': 2559, 'microbiologist': 2560, 'builder': 2561, 'utilities': 2562, 'administrators': 2563, 'pilgrim': 2564, 'jain': 2565, 'mens': 2566, 'aide': 2567, 'sunburn': 2568, 'lahu': 2569, 'jingpo': 2570, 'archbishop': 2571, 'missiles': 2572, 'waterfowl': 2573, 'sepsis': 2574, 'richter': 2575, 'violinist': 2576, 'boatman': 2577, 'gallstones': 2578, 'ethiopians': 2579, 'handmaid': 2580, 'fracture': 2581, 'arenavirus': 2582, 'grouper': 2583, 'inspection': 2584, 'drink': 2585, 'ewenkis': 2586, 'nominees': 2587, 'sanskrit': 2588, 'anglers': 2589, 'hong': 2590, 'kong': 2591, 'hear': 2592, 'oilfield': 2593, 'tatars': 2594, 'dulong': 2595, 'dongxiang': 2596, 'maonan': 2597, 'habitat': 2598, 'contingency': 2599, 'trout': 2600, 'deployment': 2601, 'bond': 2602, 'older': 2603, 'pricecontrol': 2604, 'intraregional': 2605, 'bone': 2606, 'illicit': 2607, 'pashtun': 2608, 'uzbek': 2609, 'chambermaid': 2610, 'conscript': 2611, 'conjunctivitis': 2612, 'scottish': 2613, 'atlantic': 2614, 'fertility': 2615, 'romanian': 2616, 'maricopa': 2617, 'patriotic': 2618, 'typhoons': 2619, 'amnesty': 2620, 'manus': 2621, 'refugeecamp': 2622, 'steal': 2623, 'assets': 2624, 'grader': 2625, 'infections': 2626, 'policeman': 2627, 'lyme': 2628, 'hawaiian': 2629, 'gedeo': 2630, 'campaigner': 2631, 'chukchi': 2632, 'barbados': 2633, 'alopecia': 2634, 'kashmiri': 2635, 'awami': 2636, 'kachin': 2637, 'hazara': 2638, 'blacknecked': 2639, 'crane': 2640, 'tunisian': 2641, 'lethargy': 2642, 'eritrean': 2643, 'ants': 2644, 'bureaucrats': 2645, 'maharashtra': 2646, 'mouth': 2647, 'breathe': 2648, 'pedophilia': 2649, 'slovak': 2650, 'bishops': 2651, 'tanggu': 2652, 'jiusan': 2653, 'society': 2654, 'amina': 2655, 'bombthreat': 2656, 'restoration': 2657, 'neurasthenia': 2658, 'beggar': 2659, 'weaver': 2660, 'industrialists': 2661, 'agro': 2662, 'mayors': 2663, 'claim': 2664, 'bean': 2665, 'cultural': 2666, 'zealand': 2667, 'shinto': 2668, 'order': 2669, 'bohemian': 2670, 'cadastre': 2671, 'jeweler': 2672, 'undertaker': 2673, 'lisu': 2674, 'haitian': 2675, 'burmese': 2676, 'afghans': 2677, 'embezzler': 2678, 'kurdistan': 2679, 'revival': 2680, 'typhus': 2681, 'hebrew': 2682, 'panther': 2683, 'mapo': 2684, 'mello': 2685, 'chairmen': 2686, 'identitytheft': 2687, 'seafarer': 2688, 'singers': 2689, 'crustaceans': 2690, 'cameraman': 2691, 'forecaster': 2692, 'halfmoon': 2693, 'carriers': 2694, 'interpreters': 2695, 'archer': 2696, 'pricemanipulation': 2697, 'plenipotentiary': 2698, 'volcanoes': 2699, 'lingao': 2700, 'farmhand': 2701, 'hours': 2702, 'helicopter': 2703, 'youngsters': 2704, 'psychiatrist': 2705, 'mutual': 2706, 'philologist': 2707, 'collection': 2708, 'journeymen': 2709, 'papilloma': 2710, 'canoeist': 2711, 'radioactive': 2712, 'greenpeace': 2713, 'biomass': 2714, 'mastitis': 2715, 'thais': 2716, 'lari': 2717, 'kamchatka': 2718, 'courtier': 2719, 'sturgeon': 2720, 'anorexia': 2721, 'marquis': 2722, 'belarusian': 2723, 'maringa': 2724, 'poachers': 2725, 'refine': 2726, 'paramilitaries': 2727, 'anticipation': 2728, 'hurricanes': 2729, 'xibe': 2730, 'yang': 2731, 'muang': 2732, 'gentrification': 2733, 'provider': 2734, 'therapists': 2735, 'optician': 2736, 'boko': 2737, 'haram': 2738, 'chaudhari': 2739, 'baden': 2740, 'policewoman': 2741, 'guagua': 2742, 'dyspepsia': 2743, 'practitioner': 2744, 'vaginitis': 2745, 'gonorrhea': 2746, 'mujahideen': 2747, 'lupus': 2748, 'arabiya': 2749, 'anaesthetist': 2750, 'premenstrual': 2751, 'pasture': 2752, 'smoke': 2753, 'kenyans': 2754, 'speciesextinct': 2755, 'georgian': 2756, 'elect': 2757, 'monkey': 2758, 'sindhi': 2759, 'topless': 2760, 'farc': 2761, 'bookseller': 2762, 'ford': 2763, 'yellowtail': 2764, 'cheerleader': 2765, 'anaplastic': 2766, 'veterinarians': 2767, 'virologist': 2768, 'boxers': 2769, 'clinical': 2770, 'hainan': 2771, 'gibbon': 2772, 'poacher': 2773, 'jurist': 2774, 'ventriloquist': 2775, 'pistols': 2776, 'fall': 2777, 'chechen': 2778, 'scorpion': 2779, 'typhoid': 2780, 'monba': 2781, 'dinars': 2782, 'manpads': 2783, 'hotel': 2784, 'salvation': 2785, 'tortoise': 2786, 'kirghiz': 2787, 'sicilian': 2788, 'astigmatism': 2789, 'binge': 2790, 'peritonitis': 2791, 'gravedigger': 2792, 'venda': 2793, 'manatee': 2794, 'tendons': 2795, 'neurosis': 2796, 'dwarfism': 2797, 'demonstrator': 2798, 'pumi': 2799, 'traficking': 2800, 'temer': 2801, 'blang': 2802, 'pastrycook': 2803, 'sharecropper': 2804, 'liberties': 2805, 'slovene': 2806, 'cabinet': 2807, 'shop': 2808, 'apache': 2809, 'friar': 2810, 'wingmen': 2811, 'staple': 2812, 'obstetric': 2813, 'catholicism': 2814, 'expresssupport': 2815, 'mariners': 2816, 'communications': 2817, 'twisters': 2818, 'transmission': 2819, 'waitress': 2820, 'francs': 2821, 'translocation': 2822, 'fiddler': 2823, 'cleric': 2824, 'aggressors': 2825, 'bihari': 2826, 'gujarati': 2827, 'innovator': 2828, 'armenian': 2829, 'probation': 2830, 'blister': 2831, 'oceanographer': 2832, 'poor': 2833, 'hoteliers': 2834, 'bouyei': 2835, 'neglect': 2836, 'fungus': 2837, 'australia': 2838, 'filipinos': 2839, 'rouble': 2840, 'gumuz': 2841, 'tremblor': 2842, 'timur': 2843, 'adenosine': 2844, 'triphosphate': 2845, 'antiimmigration': 2846, 'thrips': 2847, 'takers': 2848, 'rupee': 2849, 'laotians': 2850, 'continuity': 2851, 'main': 2852, 'kowari': 2853, 'minya': 2854, 'shiner': 2855, 'sikhs': 2856, 'maung': 2857, 'guanhua': 2858, 'ataxia': 2859, 'enterovirus': 2860, 'panay': 2861, 'hookworm': 2862, 'hezbollah': 2863, 'basque': 2864, 'tagba': 2865, 'lance': 2866, 'brown': 2867, 'marmorated': 2868, 'rickets': 2869, 'rear': 2870, 'marino': 2871, 'immune': 2872, 'banjo': 2873, 'lampung': 2874, 'islands': 2875, 'hydrocephalus': 2876, 'electoral': 2877, 'draftspersons': 2878, 'haitians': 2879, 'cleaners': 2880, 'counterfeitfood': 2881, 'weakness': 2882, 'mosaic': 2883, 'snowfall': 2884, 'sena': 2885, 'sleepers': 2886, 'bomber': 2887, 'portfolio': 2888, 'gulf': 2889, 'gingivitis': 2890, 'qaeda': 2891, 'crewmen': 2892, 'spill': 2893, 'korea': 2894, 'amoeba': 2895, 'abnormalities': 2896, 'without': 2897, 'electricity': 2898, 'transit': 2899, 'tehreeke': 2900, 'insaf': 2901, 'congressman': 2902, 'caddie': 2903, 'scout': 2904, 'norms': 2905, 'rawat': 2906, 'bricklayer': 2907, 'herring': 2908, 'stringer': 2909, 'intermediaries': 2910, 'bearishness': 2911, 'mumps': 2912, 'manageress': 2913, 'utility': 2914, 'mugger': 2915, 'magistrates': 2916, 'collision': 2917, 'attorneys': 2918, 'shad': 2919, 'alienist': 2920, 'truck': 2921, 'signalmen': 2922, 'gunboat': 2923, 'nusra': 2924, 'destroyers': 2925, 'young': 2926, 'suckers': 2927, 'blizzards': 2928, 'bodo': 2929, 'guangfu': 2930, 'kalinga': 2931, 'combatants': 2932, 'censor': 2933, 'newsboy': 2934, 'rheumatoid': 2935, 'well': 2936, 'functionaries': 2937, 'frigid': 2938, 'noncombatant': 2939, 'size': 2940, 'count': 2941, 'freshwater': 2942, 'lawmen': 2943, 'carboncapture': 2944, 'krona': 2945, 'maha': 2946, 'waterboarded': 2947, 'certification': 2948, 'blackbuck': 2949, 'pinkeye': 2950, 'singapore': 2951, 'deadly': 2952, 'emilian': 2953, 'burst': 2954, 'online': 2955, 'servicemen': 2956, 'surveyor': 2957, 'disabilities': 2958, 'wealth': 2959, 'illusions': 2960, 'amyotrophic': 2961, 'lateral': 2962, 'western': 2963, 'beat': 2964, 'cystitis': 2965, 'agnosticism': 2966, 'procurator': 2967, 'clarinetist': 2968, 'letter': 2969, 'macaque': 2970, 'insulin': 2971, 'conciliation': 2972, 'voyeurism': 2973, 'anaphylaxis': 2974, 'kitchen': 2975, 'huntington': 2976, 'andean': 2977, 'serbian': 2978, 'saluan': 2979, 'outlaw': 2980, 'messengers': 2981, 'anxiety': 2982, 'righthand': 2983, 'adjutant': 2984, 'historiographer': 2985, 'tasman': 2986, 'defence': 2987, 'artisans': 2988, 'postal': 2989, 'suspiciousactivities': 2990, 'suspiciousactivity': 2991, 'battleships': 2992, 'skate': 2993, 'mozambique': 2994, 'hoax': 2995, 'likud': 2996, 'cowpox': 2997, 'pastors': 2998, 'department': 2999, 'urethritis': 3000, 'flow': 3001, 'courtesan': 3002, 'flash': 3003, 'purser': 3004, 'chaplain': 3005, 'sciatica': 3006, 'trumpeter': 3007, 'debtor': 3008, 'sherpa': 3009, 'bassoonist': 3010, 'kono': 3011, 'ecologist': 3012, 'newscaster': 3013, 'pinworm': 3014, 'roadside': 3015, 'campaigners': 3016, 'wildfires': 3017, 'commandos': 3018, 'cardiovascular': 3019, 'surge': 3020, 'solicitor': 3021, 'eastern': 3022, 'boars': 3023, 'cheyenne': 3024, 'capybara': 3025, 'rainfall': 3026, 'cardinals': 3027, 'zimbabwean': 3028, 'trachoma': 3029, 'settler': 3030, 'draftee': 3031, 'obese': 3032, 'contractures': 3033, 'blackmailer': 3034, 'kalam': 3035, 'brittle': 3036, 'lange': 3037, 'pheasant': 3038, 'electricalloadshedding': 3039, 'tsunamis': 3040, 'girls': 3041, 'estate': 3042, 'interaction': 3043, 'snap': 3044, 'mite': 3045, 'arsenic': 3046, 'musk': 3047, 'occupier': 3048, 'labourers': 3049, 'acquire': 3050, 'handyman': 3051, 'funeral': 3052, 'cosmonaut': 3053, 'bangladeshis': 3054, 'distresssignal': 3055, 'adjunct': 3056, 'grass': 3057, 'zandi': 3058, 'deep': 3059, 'freeze': 3060, 'barnacle': 3061, 'trichomoniasis': 3062, 'wait': 3063, 'warrant': 3064, 'fleet': 3065, 'erythematosus': 3066, 'whip': 3067, 'malagasy': 3068, 'uruguayan': 3069, 'zika': 3070, 'tiong': 3071, 'phenylketonuria': 3072, 'expert': 3073, 'berner': 3074, 'watchmen': 3075, 'nasopharyngitis': 3076, 'south': 3077, 'collective': 3078, 'bargain': 3079, 'late': 3080, 'blight': 3081, 'bongo': 3082, 'bowler': 3083, 'shaka': 3084, 'outages': 3085, 'molotov': 3086, 'cocktails': 3087, 'molotovcocktail': 3088, 'nawaz': 3089, 'punjabi': 3090, 'swedes': 3091, 'reunification': 3092, 'pass': 3093, 'valley': 3094, 'cell': 3095, 'urdu': 3096, 'save': 3097, 'employ': 3098, 'recruiter': 3099, 'aviatrix': 3100, 'draftsman': 3101, 'norwegians': 3102, 'winemaker': 3103, 'dairi': 3104, 'malayan': 3105, 'tapir': 3106, 'dragon': 3107, 'hope': 3108, 'worldwide': 3109, 'chachi': 3110, 'emigration': 3111, 'diocesan': 3112, 'suspicious': 3113, 'powder': 3114, 'alqaeda': 3115, 'sedentary': 3116, 'gondolier': 3117, 'scrub': 3118, 'droughts': 3119, 'garbage': 3120, 'collectors': 3121, 'aristocrat': 3122, 'zambezi': 3123, 'zimbabweans': 3124, 'maasai': 3125, 'plumber': 3126, 'near': 3127, 'pike': 3128, 'cataracts': 3129, 'east': 3130, 'hobbes': 3131, 'customary': 3132, 'cerebrovascular': 3133, 'argentinians': 3134, 'stenosis': 3135, 'showgirls': 3136, 'forza': 3137, 'italia': 3138, 'dinka': 3139, 'downsize': 3140, 'joiners': 3141, 'joiner': 3142, 'uzbeks': 3143, 'uveitis': 3144, 'rattlesnake': 3145, 'fruit': 3146, 'appointee': 3147, 'maran': 3148, 'hyperopia': 3149, 'retardation': 3150, 'daiso': 3151, 'deliveryman': 3152, 'guarani': 3153, 'customer': 3154, 'technocrats': 3155, 'facilitator': 3156, 'betta': 3157, 'executioner': 3158, 'scarlet': 3159, 'bagger': 3160, 'postmasters': 3161, 'kenya': 3162, 'phong': 3163, 'parent': 3164, 'preschools': 3165, 'curriculum': 3166, 'sambal': 3167, 'artisan': 3168, 'kurds': 3169, 'signer': 3170, 'swordfish': 3171, 'padang': 3172, 'excavators': 3173, 'cognitive': 3174, 'resilience': 3175, 'oarsmen': 3176, 'environ': 3177, 'baroness': 3178, 'shuli': 3179, 'pollock': 3180, 'fruitfly': 3181, 'island': 3182, 'russias': 3183, 'conference': 3184, 'wage': 3185, 'india': 3186, 'vietnam': 3187, 'snapper': 3188, 'fashion': 3189, 'palpa': 3190, 'adaptation': 3191, 'shaker': 3192, 'industrialaccident': 3193, 'malaysian': 3194, 'lactose': 3195, 'intolerance': 3196, 'lamma': 3197, 'accountants': 3198, 'paganism': 3199, 'chechens': 3200, 'powerful': 3201, 'widow': 3202, 'autocrats': 3203, 'babar': 3204, 'downy': 3205, 'nobles': 3206, 'weasel': 3207, 'patella': 3208, 'shiba': 3209, 'anomaly': 3210, 'electrification': 3211, 'tuvalu': 3212, 'fijians': 3213, 'physical': 3214, 'headmistress': 3215, 'saury': 3216, 'rukai': 3217, 'paiwan': 3218, 'metalworker': 3219, 'dieoff': 3220, 'trung': 3221, 'cabinda': 3222, 'chimera': 3223, 'matador': 3224, 'line': 3225, 'apotheosis': 3226, 'mango': 3227, 'kayin': 3228, 'mauritian': 3229, 'rhesus': 3230, 'contingent': 3231, 'liabilities': 3232, 'spiritual': 3233, 'dairy': 3234, 'freelancers': 3235, 'telugu': 3236, 'marathi': 3237, 'turkana': 3238, 'regeneration': 3239, 'madi': 3240, 'pharmacologist': 3241, 'corridor': 3242, 'blackwinged': 3243, 'rupees': 3244, 'bellhop': 3245, 'kestrel': 3246, 'phimosis': 3247, 'extractive': 3248, 'rubella': 3249, 'elks': 3250, 'logistician': 3251, 'hawker': 3252, 'pandan': 3253, 'belarusians': 3254, 'bahai': 3255, 'xenophobia': 3256, 'handymen': 3257, 'tundra': 3258, 'austrians': 3259, 'fulani': 3260, 'romani': 3261, 'grasshopper': 3262, 'show': 3263, 'burialpractices': 3264, 'block': 3265, 'sungei': 3266, 'slide': 3267, 'tern': 3268, 'renovator': 3269, 'twit': 3270, 'imam': 3271, 'antiimmigrant': 3272, 'ghost': 3273, 'magpie': 3274, 'bipolar': 3275, 'eurasian': 3276, 'gospel': 3277, 'bengali': 3278, 'cagayanos': 3279, 'galicians': 3280, 'policebrutality': 3281, 'silicosis': 3282, 'formaldehyde': 3283, 'amal': 3284, 'devices': 3285, 'serra': 3286, 'pacific': 3287, 'islanders': 3288, 'pink': 3289, 'turkmen': 3290, 'kamau': 3291, 'crowdsourcing': 3292, 'kakadu': 3293, 'uterine': 3294, 'chieftain': 3295, 'whore': 3296, 'hemolytic': 3297, 'kamba': 3298, 'prefects': 3299, 'registries': 3300, 'epileptic': 3301, 'etoro': 3302, 'navigators': 3303, 'improvise': 3304, 'explosive': 3305, 'universal': 3306, 'informal': 3307, 'allowance': 3308, 'polydipsia': 3309, 'creutzfeldtjakob': 3310, 'copts': 3311, 'romansh': 3312, 'whitefish': 3313, 'rubber': 3314, 'enteropathy': 3315, 'railway': 3316, 'vaginal': 3317, 'discharge': 3318, 'herders': 3319, 'corsican': 3320, 'dissociative': 3321, 'identity': 3322, 'kaluga': 3323, 'diamondback': 3324, 'isis': 3325, 'dispatchers': 3326, 'motorize': 3327, 'sustain': 3328, 'machetes': 3329, 'bengalis': 3330, 'assamese': 3331, 'teratomas': 3332, 'ketagalan': 3333, 'maldivians': 3334, 'templar': 3335, 'retinopathy': 3336, 'chieftains': 3337, 'tornadoes': 3338, 'spinocerebellar': 3339, 'pressure': 3340, 'tigress': 3341, 'paratyphoid': 3342, 'barracuda': 3343, 'masticatory': 3344, 'greenhouse': 3345, 'onychomycosis': 3346, 'overdose': 3347, 'caretakers': 3348, 'lithuanians': 3349, 'shiites': 3350, 'sunnis': 3351, 'avian': 3352, 'chin': 3353, 'resh': 3354, 'floodwaters': 3355, 'protestants': 3356, 'proteinuria': 3357, 'typist': 3358, 'earth': 3359, 'rheumatic': 3360, 'mercury': 3361, 'mako': 3362, 'marinos': 3363, 'geneticist': 3364, 'zealanders': 3365, 'violist': 3366, 'glazier': 3367, 'copyright': 3368, 'advertiser': 3369, 'hypospadias': 3370, 'greater': 3371, 'coucal': 3372, 'amenorrhea': 3373, 'arima': 3374, 'grant': 3375, 'okinawans': 3376, 'jeweller': 3377, 'proconsul': 3378, 'insects': 3379, 'check': 3380, 'mashile': 3381, 'grayling': 3382, 'migrants': 3383, 'makhua': 3384, 'flunkeys': 3385, 'trendsetter': 3386, 'defenders': 3387, 'kazak': 3388, 'knee': 3389, 'injuries': 3390, 'entertainers': 3391, 'microcephaly': 3392, 'graphic': 3393, 'user': 3394, 'footballer': 3395, 'effigy': 3396, 'swineherd': 3397, 'haqqani': 3398, 'television': 3399, 'heatwaves': 3400, 'misallocations': 3401, 'adhd': 3402, 'yellowfin': 3403, 'sakha': 3404, 'servicedisruption': 3405, 'landsman': 3406, 'cast': 3407, 'hatmaker': 3408, 'stylists': 3409, 'dressmaker': 3410, 'pashto': 3411, 'mezzanine': 3412, 'djerba': 3413, 'accreditation': 3414, 'tree': 3415, 'underemployment': 3416, 'wear': 3417, 'stargazer': 3418, 'carbuncle': 3419, 'berri': 3420, 'aerial': 3421, 'leaf': 3422, 'affairs': 3423, 'herdsmens': 3424, 'filibuster': 3425, 'bile': 3426, 'discriminatory': 3427, 'mano': 3428, 'convergence': 3429, 'luang': 3430, 'underwriter': 3431, 'yeoman': 3432, 'draftsmen': 3433, 'strikers': 3434, 'slovenian': 3435, 'bintulu': 3436, 'closingborder': 3437, 'ischemic': 3438, 'tawara': 3439, 'reformists': 3440, 'ascorbic': 3441, 'alligator': 3442, 'naval': 3443, 'melioidosis': 3444, 'toiler': 3445, 'counterfeitmoney': 3446, 'command': 3447, 'gentry': 3448, 'ultraorthodox': 3449, 'skull': 3450, 'soil': 3451, 'snowstorms': 3452, 'cycle': 3453, 'libertarian': 3454, 'beneficial': 3455, 'consolidation': 3456, 'commissioners': 3457, 'weevils': 3458, 'cataplexy': 3459, 'sommelier': 3460, 'tachycardia': 3461, 'asaib': 3462, 'alhaq': 3463, 'plant': 3464, 'balloonist': 3465, 'guatemalan': 3466, 'lodhi': 3467, 'gatekeeper': 3468, 'extension': 3469, 'coyote': 3470, 'tiens': 3471, 'jorge': 3472, 'majority': 3473, 'anoxia': 3474, 'chuka': 3475, 'motor': 3476, 'neuron': 3477, 'sharia': 3478, 'person': 3479, 'shaw': 3480, 'anthologist': 3481, 'handmaids': 3482, 'chancellors': 3483, 'nuer': 3484, 'troopers': 3485, 'inland': 3486, 'mercy': 3487, 'corps': 3488, 'evenki': 3489, 'mold': 3490, 'maker': 3491, 'jino': 3492, 'fracking': 3493, 'macroprudential': 3494, 'sukur': 3495, 'rangers': 3496, 'taskmasters': 3497, 'windstorms': 3498, 'kuwaiti': 3499, 'break': 3500, 'legionnaire': 3501, 'mandingo': 3502, 'dust': 3503, 'iboko': 3504, 'pipe': 3505, 'filariasis': 3506, 'chikungunya': 3507, 'icelanders': 3508, 'prospector': 3509, 'conveners': 3510, 'diaspora': 3511, 'deng': 3512, 'merida': 3513, 'involvement': 3514, 'outreach': 3515, 'psychoanalyst': 3516, 'interferon': 3517, 'gamma': 3518, 'cretinism': 3519, 'oboist': 3520, 'kwang': 3521, 'syrian': 3522, 'forger': 3523, 'sound': 3524, 'chauffeur': 3525, 'master': 3526, 'neurosurgeon': 3527, 'surgeons': 3528, 'pleurisy': 3529, 'color': 3530, 'aerospace': 3531, 'malek': 3532, 'dorado': 3533, 'facilitators': 3534, 'specific': 3535, 'manic': 3536, 'ozone': 3537, 'deplete': 3538, 'substances': 3539, 'orochi': 3540, 'monarch': 3541, 'asean': 3542, 'mellitus': 3543, 'prediabetes': 3544, 'antisemitism': 3545, 'evenks': 3546, 'folk': 3547, 'burundian': 3548, 'stockbroker': 3549, 'tripura': 3550, 'siang': 3551, 'roubles': 3552, 'mohammed': 3553, 'constriction': 3554, 'bradycardia': 3555, 'royal': 3556, 'philippine': 3557, 'qualification': 3558, 'frameworks': 3559, 'hotelier': 3560, 'calligraphist': 3561, 'maler': 3562, 'egyptian': 3563, 'joint': 3564, 'synovitis': 3565, 'reef': 3566, 'arsonist': 3567, 'aidassistance': 3568, 'pillager': 3569, 'millipedes': 3570, 'flatfoot': 3571, 'nicaraguan': 3572, 'integrate': 3573, 'beekeeper': 3574, 'west': 3575, 'plantain': 3576, 'orissa': 3577, 'samaritans': 3578, 'franchisee': 3579, 'helong': 3580, 'airplane': 3581, 'kabila': 3582, 'eels': 3583, 'altitude': 3584, 'mathematicians': 3585, 'oilman': 3586, 'constraints': 3587, 'alawites': 3588, 'berin': 3589, 'stewards': 3590, 'magnesium': 3591, 'geographic': 3592, 'pertussis': 3593, 'dermatologist': 3594, 'karam': 3595, 'ringworm': 3596, 'trendsetters': 3597, 'sala': 3598, 'acromegaly': 3599, 'socialite': 3600, 'seneca': 3601, 'crustacean': 3602, 'deaconess': 3603, 'heatingoilprice': 3604, 'animism': 3605, 'marfan': 3606, 'exhaustion': 3607, 'reversal': 3608, 'paleontologists': 3609, 'bindi': 3610, 'temple': 3611, 'childsoldier': 3612, 'otorhinolaryngologist': 3613, 'kite': 3614, 'zookeeper': 3615, 'breton': 3616, 'shingle': 3617, 'kassos': 3618, 'quds': 3619, 'earners': 3620, 'proctor': 3621, 'noncommissioned': 3622, 'actresses': 3623, 'little': 3624, 'deregulation': 3625, 'nail': 3626, 'leech': 3627, 'ultranationalist': 3628, 'germany': 3629, 'reverend': 3630, 'interfaces': 3631, 'pediatrician': 3632, 'afrikaans': 3633, 'sprawl': 3634, 'intoxication': 3635, 'shortsightedness': 3636, 'pastoralism': 3637, 'gravity': 3638, 'moose': 3639, 'tembo': 3640, 'cupbearer': 3641, 'taiwan': 3642, 'makassar': 3643, 'shasta': 3644, 'bellman': 3645, 'garibaldi': 3646, 'serb': 3647, 'samoan': 3648, 'ibex': 3649, 'forcedrelocation': 3650, 'displacement': 3651, 'bactrian': 3652, 'camel': 3653, 'rand': 3654, 'lombard': 3655, 'mexican': 3656, 'appointees': 3657, 'farsi': 3658, 'danio': 3659, 'arctic': 3660, 'solidarity': 3661, 'dairymen': 3662, 'paragonimiasis': 3663, 'cameramen': 3664, 'sweden': 3665, 'spinner': 3666, 'bottlenose': 3667, 'roundworm': 3668, 'venezuelans': 3669, 'lineman': 3670, 'altar': 3671, 'palay': 3672, 'incendiary': 3673, 'tanna': 3674, 'hadia': 3675, 'zoologist': 3676, 'molecular': 3677, 'pigeon': 3678, 'polyhydramnios': 3679, 'azeri': 3680, 'feminists': 3681, 'mountain': 3682, 'onsite': 3683, 'liras': 3684, 'intermediation': 3685, 'mocha': 3686, 'piano': 3687, 'tuner': 3688, 'hooker': 3689, 'quitrate': 3690, 'guyanese': 3691, 'assessor': 3692, 'catalepsy': 3693, 'minnows': 3694, 'lifeguards': 3695, 'barkeep': 3696, 'second': 3697, 'third': 3698, 'manga': 3699, 'genetic': 3700, 'cowherds': 3701, 'brass': 3702, 'informality': 3703, 'serviceman': 3704, 'dissolvegov': 3705, 'spondylitis': 3706, 'cutoutlook': 3707, 'dirham': 3708, 'polynesians': 3709, 'great': 3710, 'bustard': 3711, 'nobleman': 3712, 'catastrophic': 3713, 'prudential': 3714, 'adequacy': 3715, 'bullet': 3716, 'fireman': 3717, 'zoonoses': 3718, 'zoonotic': 3719, 'rocket': 3720, 'propel': 3721, 'gende': 3722, 'harmthreaten': 3723, 'babysitter': 3724, 'myoclonus': 3725, 'operation': 3726, 'wheelwright': 3727, 'still': 3728, 'diarrhoea': 3729, 'stingrays': 3730, 'hizbul': 3731, 'hostler': 3732, 'tama': 3733, 'belorussian': 3734, 'milkman': 3735, 'podiatrist': 3736, 'bellmen': 3737, 'overseers': 3738, 'spokesmen': 3739, 'procurators': 3740, 'alnusra': 3741, 'stilt': 3742, 'superordinate': 3743, 'managua': 3744, 'vibrio': 3745, 'parahaemolyticus': 3746, 'distance': 3747, 'stonecutters': 3748, 'halibut': 3749, 'tanjong': 3750, 'moderators': 3751, 'diabetic': 3752, 'firefighter': 3753, 'methodist': 3754, 'syriac': 3755, 'cuba': 3756, 'travel': 3757, 'aground': 3758, 'clerics': 3759, 'landscaper': 3760, 'chanco': 3761, 'exhumation': 3762, 'concow': 3763, 'duchess': 3764, 'landmines': 3765, 'loose': 3766, 'cornea': 3767, 'unpaid': 3768, 'buffalo': 3769, 'urinary': 3770, 'tract': 3771, 'kachari': 3772, 'maharaja': 3773, 'aviators': 3774, 'corpse': 3775, 'dismemberment': 3776, 'technologist': 3777, 'readiness': 3778, 'psychotherapist': 3779, 'gnathostoma': 3780, 'easter': 3781, 'surface': 3782, 'laundryman': 3783, 'signalman': 3784, 'thalassaemia': 3785, 'dawan': 3786, 'modernization': 3787, 'rehabilitation': 3788, 'agency': 3789, 'temblor': 3790, 'argentine': 3791, 'malaga': 3792, 'craftswomen': 3793, 'ranger': 3794, 'skipper': 3795, 'stonemasons': 3796, 'entomologist': 3797, 'shaman': 3798, 'paraeducator': 3799, 'kande': 3800, 'weathermen': 3801, 'teargas': 3802, 'leftwingers': 3803, 'cleanse': 3804, 'meteorite': 3805, 'shia': 3806, 'coinfection': 3807, 'demigods': 3808, 'sudan': 3809, 'coachmen': 3810, 'stage': 3811, 'kanyak': 3812, 'punters': 3813, 'spell': 3814, 'maden': 3815, 'fortuneteller': 3816, 'penguin': 3817, 'fania': 3818, 'berber': 3819, 'tamezret': 3820, 'constable': 3821, 'foot': 3822, 'ammar': 3823, 'fluoride': 3824, 'electric': 3825, 'cysticercosis': 3826, 'cherry': 3827, 'gumi': 3828, 'araki': 3829, 'absenteeism': 3830, 'bahraini': 3831, 'dugong': 3832, 'mengs': 3833, 'gambo': 3834, 'enforcers': 3835, 'condyloma': 3836, 'bush': 3837, 'walloon': 3838, 'paramedic': 3839, 'sommeliers': 3840, 'reservists': 3841, 'bullets': 3842, 'bartenders': 3843, 'nightingale': 3844, 'redfaced': 3845, 'liocichla': 3846, 'chestnut': 3847, 'woodpecker': 3848, 'minnow': 3849, 'federation': 3850, 'palma': 3851, 'sakai': 3852, 'marra': 3853, 'papuan': 3854, 'cham': 3855, 'monks': 3856, 'montagnards': 3857, 'lobbyist': 3858, 'help': 3859, 'opportunistic': 3860, 'syncytial': 3861, 'adenovirus': 3862, 'shopkeeper': 3863, 'quinoa': 3864, 'landlady': 3865, 'multi': 3866, 'dimensional': 3867, 'genetically': 3868, 'modify': 3869, 'organisms': 3870, 'landlords': 3871, 'gulag': 3872, 'enforce': 3873, 'disappearances': 3874, 'paralyse': 3875, 'creative': 3876, 'intense': 3877, 'metalworkers': 3878, 'flemish': 3879, 'sailfish': 3880, 'peru': 3881, 'possible': 3882}\n"
     ]
    }
   ],
   "source": [
    "word_to_index = tokenizer.word_index\n",
    "print(word_to_index)"
   ]
  },
  {
   "cell_type": "code",
   "execution_count": 24,
   "metadata": {},
   "outputs": [],
   "source": [
    "# # Remove tokenized word that appears only once\n",
    "\n",
    "# threshold = 2\n",
    "# total_count = len(word_to_index)\n",
    "# rare_count = 0 # number of words if the frequency of word is less than threshold\n",
    "# total_freq = 0 # sum of total word frequency\n",
    "# rare_freq = 0 # sum of rare word frequency\n",
    "\n",
    "# for key, value in tokenizer.word_counts.items():\n",
    "#     total_freq = total_freq + value\n",
    "    \n",
    "#     if(value < threshold):\n",
    "#         rare_count = rare_count+1\n",
    "#         rare_freq = rare_freq+value\n",
    "        \n",
    "# print(rare_count)\n",
    "# print(rare_count/total_count*100)\n",
    "# print(rare_freq/total_freq*100)"
   ]
  },
  {
   "cell_type": "code",
   "execution_count": 25,
   "metadata": {},
   "outputs": [],
   "source": [
    "# tokenizer = Tokenizer(num_words = total_count-rare_count+1)"
   ]
  },
  {
   "cell_type": "code",
   "execution_count": 26,
   "metadata": {
    "scrolled": true
   },
   "outputs": [],
   "source": [
    "# vocab_size = len(word_to_index)+1\n",
    "# print(vocab_size)"
   ]
  },
  {
   "cell_type": "code",
   "execution_count": 27,
   "metadata": {
    "scrolled": false
   },
   "outputs": [
    {
     "name": "stdout",
     "output_type": "stream",
     "text": [
      "[[  0   0   0 ...  22  58  22]\n",
      " [  0   0   0 ...  23  28  27]\n",
      " [  0   0   0 ...  23  28  27]\n",
      " ...\n",
      " [  0   0   0 ...  71   2 546]\n",
      " [  0   0   0 ...  52 188   2]\n",
      " [  0   0   0 ...   2  25  18]]\n",
      "[ 0  0  0 ... 22 58 22]\n",
      "500\n"
     ]
    }
   ],
   "source": [
    "sequences_matrix = sequence.pad_sequences(sequences, maxlen = 500)\n",
    "print(sequences_matrix)\n",
    "print(sequences_matrix[0])\n",
    "print(len(sequences_matrix[0]))"
   ]
  },
  {
   "cell_type": "markdown",
   "metadata": {},
   "source": [
    "# Train and Validate Data"
   ]
  },
  {
   "cell_type": "code",
   "execution_count": 28,
   "metadata": {},
   "outputs": [
    {
     "data": {
      "text/plain": [
       "(52000, 1)"
      ]
     },
     "execution_count": 28,
     "metadata": {},
     "output_type": "execute_result"
    }
   ],
   "source": [
    "# Recall label csv\n",
    "\n",
    "y = pd.read_csv(\"label.csv\")\n",
    "y.shape"
   ]
  },
  {
   "cell_type": "code",
   "execution_count": 29,
   "metadata": {},
   "outputs": [
    {
     "name": "stdout",
     "output_type": "stream",
     "text": [
      "Longest article length: 500\n",
      "Average article length: 500\n"
     ]
    }
   ],
   "source": [
    "x = sequences_matrix\n",
    "print('Longest article length: %d' % max(len(l) for l in x))\n",
    "print('Average article length: %d' % (sum(map(len, x))/len(x)))"
   ]
  },
  {
   "cell_type": "code",
   "execution_count": 30,
   "metadata": {},
   "outputs": [],
   "source": [
    "# n_train = int(len(sequences)*0.8)\n",
    "# n_test = int(len(sequences)-n_train)\n",
    "\n",
    "# print(n_train)\n",
    "# print(n_test)"
   ]
  },
  {
   "cell_type": "code",
   "execution_count": 31,
   "metadata": {},
   "outputs": [],
   "source": [
    "# max_len = 11271\n",
    "# x = pad_sequences(x, maxlen = max_len)\n",
    "# print(x.shape)"
   ]
  },
  {
   "cell_type": "code",
   "execution_count": 32,
   "metadata": {},
   "outputs": [],
   "source": [
    "# x_test = x[n_train:]\n",
    "# y_test = np.array(y[n_train:])\n",
    "# x_train = x[:n_train]\n",
    "# y_train = np.array(y[:n_train])"
   ]
  },
  {
   "cell_type": "code",
   "execution_count": 33,
   "metadata": {},
   "outputs": [
    {
     "name": "stdout",
     "output_type": "stream",
     "text": [
      "3882\n",
      "(41600, 500)\n",
      "(41600, 1)\n"
     ]
    }
   ],
   "source": [
    "print(len(tokenizer.word_index))\n",
    "\n",
    "x_train, x_test, y_train, y_test = train_test_split(x, y, test_size=0.2)\n",
    "\n",
    "print(x_train.shape)\n",
    "print(y_train.shape)"
   ]
  },
  {
   "cell_type": "code",
   "execution_count": 34,
   "metadata": {},
   "outputs": [],
   "source": [
    "# y_train = np.asarray(y_train).astype('float32').reshape((-1,1))\n",
    "# y_test = np.asarray(y_test).astype('float32').reshape((-1,1))"
   ]
  },
  {
   "cell_type": "code",
   "execution_count": 35,
   "metadata": {},
   "outputs": [],
   "source": [
    "# y_train.shape, y_test.shape, x_train.shape, x_test.shape"
   ]
  },
  {
   "cell_type": "markdown",
   "metadata": {},
   "source": [
    "# LSTM Model"
   ]
  },
  {
   "cell_type": "code",
   "execution_count": 36,
   "metadata": {
    "scrolled": true
   },
   "outputs": [],
   "source": [
    "# model = Sequential()\n",
    "    \n",
    "# model.add(Embedding(max_word, 64, input_length=max_len))\n",
    "# model.add(SimpleRNN(60))\n",
    "# model.add(Dense(50, activation='sigmoid'))\n",
    "# model.add(Dense(1, activation='sigmoid'))\n",
    "          \n",
    "# model.compile(optimizer='rmsprop', loss='binary_crossentropy', metrics=['acc'])\n",
    "# history = model.fit(x_train, y_train, epochs=4, batch_size=64, validation_split=0.2)"
   ]
  },
  {
   "cell_type": "code",
   "execution_count": 37,
   "metadata": {},
   "outputs": [],
   "source": [
    "max_word = 5000\n",
    "max_len = 500\n",
    "\n",
    "model = Sequential()\n",
    "    \n",
    "model.add(Embedding(max_word, 64, input_length=max_len))\n",
    "model.add(LSTM(60, return_sequences=True))\n",
    "model.add(GlobalMaxPool1D())\n",
    "model.add(Dropout(0.2))\n",
    "model.add(Dense(50, activation='sigmoid'))\n",
    "model.add(Dropout(0.2))\n",
    "model.add(Dense(1, activation='sigmoid'))\n",
    "\n",
    "model.compile(loss='binary_crossentropy', optimizer='adam', metrics=['accuracy'])\n",
    "\n",
    "check = ModelCheckpoint('best_model.h5', monitor='val_loss', mode='max', verbose=1, save_best_only=True)\n",
    "early_stop = EarlyStopping(monitor='val_loss', mode='min', verbose=1, patience=7)"
   ]
  },
  {
   "cell_type": "code",
   "execution_count": 38,
   "metadata": {},
   "outputs": [
    {
     "name": "stdout",
     "output_type": "stream",
     "text": [
      "Model: \"sequential\"\n",
      "_________________________________________________________________\n",
      "Layer (type)                 Output Shape              Param #   \n",
      "=================================================================\n",
      "embedding (Embedding)        (None, 500, 64)           320000    \n",
      "_________________________________________________________________\n",
      "lstm (LSTM)                  (None, 500, 60)           30000     \n",
      "_________________________________________________________________\n",
      "global_max_pooling1d (Global (None, 60)                0         \n",
      "_________________________________________________________________\n",
      "dropout (Dropout)            (None, 60)                0         \n",
      "_________________________________________________________________\n",
      "dense (Dense)                (None, 50)                3050      \n",
      "_________________________________________________________________\n",
      "dropout_1 (Dropout)          (None, 50)                0         \n",
      "_________________________________________________________________\n",
      "dense_1 (Dense)              (None, 1)                 51        \n",
      "=================================================================\n",
      "Total params: 353,101\n",
      "Trainable params: 353,101\n",
      "Non-trainable params: 0\n",
      "_________________________________________________________________\n"
     ]
    }
   ],
   "source": [
    "model.summary()"
   ]
  },
  {
   "cell_type": "code",
   "execution_count": 39,
   "metadata": {},
   "outputs": [
    {
     "name": "stdout",
     "output_type": "stream",
     "text": [
      "Epoch 1/20\n",
      "260/260 [==============================] - 444s 2s/step - loss: 0.1163 - accuracy: 0.9922 - val_loss: 0.0376 - val_accuracy: 0.9939\n",
      "\n",
      "Epoch 00001: val_loss improved from -inf to 0.03758, saving model to best_model.h5\n",
      "Epoch 2/20\n",
      "260/260 [==============================] - 448s 2s/step - loss: 0.0465 - accuracy: 0.9924 - val_loss: 0.0376 - val_accuracy: 0.9939\n",
      "\n",
      "Epoch 00002: val_loss did not improve from 0.03758\n",
      "Epoch 3/20\n",
      "260/260 [==============================] - 457s 2s/step - loss: 0.0371 - accuracy: 0.9941 - val_loss: 0.0370 - val_accuracy: 0.9939\n",
      "\n",
      "Epoch 00003: val_loss did not improve from 0.03758\n",
      "Epoch 4/20\n",
      "260/260 [==============================] - 452s 2s/step - loss: 0.0345 - accuracy: 0.9945 - val_loss: 0.0343 - val_accuracy: 0.9939\n",
      "\n",
      "Epoch 00004: val_loss did not improve from 0.03758\n",
      "Epoch 5/20\n",
      "260/260 [==============================] - 506s 2s/step - loss: 0.0340 - accuracy: 0.9938 - val_loss: 0.0273 - val_accuracy: 0.9939\n",
      "\n",
      "Epoch 00005: val_loss did not improve from 0.03758\n",
      "Epoch 6/20\n",
      "260/260 [==============================] - 493s 2s/step - loss: 0.0281 - accuracy: 0.9933 - val_loss: 0.0244 - val_accuracy: 0.9939\n",
      "\n",
      "Epoch 00006: val_loss did not improve from 0.03758\n",
      "Epoch 7/20\n",
      "260/260 [==============================] - 492s 2s/step - loss: 0.0202 - accuracy: 0.9937 - val_loss: 0.0166 - val_accuracy: 0.9953\n",
      "\n",
      "Epoch 00007: val_loss did not improve from 0.03758\n",
      "Epoch 8/20\n",
      "260/260 [==============================] - 481s 2s/step - loss: 0.0137 - accuracy: 0.9957 - val_loss: 0.0152 - val_accuracy: 0.9958\n",
      "\n",
      "Epoch 00008: val_loss did not improve from 0.03758\n",
      "Epoch 9/20\n",
      "260/260 [==============================] - 470s 2s/step - loss: 0.0102 - accuracy: 0.9968 - val_loss: 0.0145 - val_accuracy: 0.9954\n",
      "\n",
      "Epoch 00009: val_loss did not improve from 0.03758\n",
      "Epoch 10/20\n",
      "260/260 [==============================] - 467s 2s/step - loss: 0.0080 - accuracy: 0.9980 - val_loss: 0.0160 - val_accuracy: 0.9957\n",
      "\n",
      "Epoch 00010: val_loss did not improve from 0.03758\n",
      "Epoch 11/20\n",
      "260/260 [==============================] - 488s 2s/step - loss: 0.0074 - accuracy: 0.9978 - val_loss: 0.0144 - val_accuracy: 0.9957\n",
      "\n",
      "Epoch 00011: val_loss did not improve from 0.03758\n",
      "Epoch 12/20\n",
      "260/260 [==============================] - 461s 2s/step - loss: 0.0080 - accuracy: 0.9974 - val_loss: 0.0140 - val_accuracy: 0.9957\n",
      "\n",
      "Epoch 00012: val_loss did not improve from 0.03758\n",
      "Epoch 13/20\n",
      "260/260 [==============================] - 458s 2s/step - loss: 0.0064 - accuracy: 0.9982 - val_loss: 0.0126 - val_accuracy: 0.9960\n",
      "\n",
      "Epoch 00013: val_loss did not improve from 0.03758\n",
      "Epoch 14/20\n",
      "260/260 [==============================] - 471s 2s/step - loss: 0.0054 - accuracy: 0.9985 - val_loss: 0.0113 - val_accuracy: 0.9960\n",
      "\n",
      "Epoch 00014: val_loss did not improve from 0.03758\n",
      "Epoch 15/20\n",
      "260/260 [==============================] - 501s 2s/step - loss: 0.0058 - accuracy: 0.9985 - val_loss: 0.0159 - val_accuracy: 0.9959\n",
      "\n",
      "Epoch 00015: val_loss did not improve from 0.03758\n",
      "Epoch 16/20\n",
      "260/260 [==============================] - 496s 2s/step - loss: 0.0055 - accuracy: 0.9985 - val_loss: 0.0135 - val_accuracy: 0.9960\n",
      "\n",
      "Epoch 00016: val_loss did not improve from 0.03758\n",
      "Epoch 17/20\n",
      "260/260 [==============================] - 445s 2s/step - loss: 0.0038 - accuracy: 0.9987 - val_loss: 0.0175 - val_accuracy: 0.9958\n",
      "\n",
      "Epoch 00017: val_loss did not improve from 0.03758\n",
      "Epoch 18/20\n",
      "260/260 [==============================] - 446s 2s/step - loss: 0.0038 - accuracy: 0.9987 - val_loss: 0.0120 - val_accuracy: 0.9960\n",
      "\n",
      "Epoch 00018: val_loss did not improve from 0.03758\n",
      "Epoch 19/20\n",
      "260/260 [==============================] - 449s 2s/step - loss: 0.0042 - accuracy: 0.9985 - val_loss: 0.0136 - val_accuracy: 0.9959\n",
      "\n",
      "Epoch 00019: val_loss did not improve from 0.03758\n",
      "Epoch 20/20\n",
      "260/260 [==============================] - 449s 2s/step - loss: 0.0043 - accuracy: 0.9982 - val_loss: 0.0177 - val_accuracy: 0.9963\n",
      "\n",
      "Epoch 00020: val_loss did not improve from 0.03758\n"
     ]
    }
   ],
   "source": [
    "hist = model.fit(x_train, y_train, batch_size=128, epochs=20, validation_split=0.2, callbacks=[check, early_stop])"
   ]
  },
  {
   "cell_type": "code",
   "execution_count": 41,
   "metadata": {},
   "outputs": [
    {
     "name": "stdout",
     "output_type": "stream",
     "text": [
      "325/325 [==============================] - 17s 53ms/step - loss: 0.0157 - accuracy: 0.9966\n",
      "Accurcacy : 0.9966\n"
     ]
    }
   ],
   "source": [
    "print(\"Accurcacy : %.4f\" % (model.evaluate(x_test, y_test)[1]))"
   ]
  },
  {
   "cell_type": "code",
   "execution_count": 42,
   "metadata": {},
   "outputs": [
    {
     "data": {
      "image/png": "[encoded data removed]",
      "text/plain": [
       "<Figure size 432x288 with 1 Axes>"
      ]
     },
     "metadata": {
      "needs_background": "light"
     },
     "output_type": "display_data"
    }
   ],
   "source": [
    "y_vloss = hist.history['val_loss']\n",
    "y_loss = hist.history['loss']\n",
    "\n",
    "x_len = np.arange(len(y_loss))\n",
    "\n",
    "plt.plot(x_len, y_vloss, marker='.', c='red', label='val_set_loss')\n",
    "plt.plot(x_len, y_loss, marker='.', c='blue', label='train_set_oss')\n",
    "plt.legend()\n",
    "plt.xlabel('epochs')\n",
    "plt.ylabel('loss')\n",
    "plt.grid()\n",
    "plt.show()"
   ]
  },
  {
   "cell_type": "code",
   "execution_count": 45,
   "metadata": {},
   "outputs": [
    {
     "data": {
      "image/png": "[encoded data removed]",
      "text/plain": [
       "<Figure size 432x288 with 1 Axes>"
      ]
     },
     "metadata": {
      "needs_background": "light"
     },
     "output_type": "display_data"
    }
   ],
   "source": [
    "y_vloss = hist.history['val_accuracy']\n",
    "y_loss = hist.history['accuracy']\n",
    "\n",
    "x_len = np.arange(len(y_loss))\n",
    "\n",
    "plt.plot(x_len, y_vloss, marker='.', c='red', label='val_set_loss')\n",
    "plt.plot(x_len, y_loss, marker='.', c='blue', label='train_set_oss')\n",
    "plt.legend()\n",
    "plt.xlabel('epochs')\n",
    "plt.ylabel('loss')\n",
    "plt.grid()\n",
    "plt.show()"
   ]
  }
 ],
 "metadata": {
  "colab": {
   "collapsed_sections": [],
   "name": "News_Preprocessing.ipynb",
   "provenance": []
  },
  "kernelspec": {
   "display_name": "Python 3",
   "language": "python",
   "name": "python3"
  },
  "language_info": {
   "codemirror_mode": {
    "name": "ipython",
    "version": 3
   },
   "file_extension": ".py",
   "mimetype": "text/x-python",
   "name": "python",
   "nbconvert_exporter": "python",
   "pygments_lexer": "ipython3",
   "version": "3.8.5"
  }
 },
 "nbformat": 4,
 "nbformat_minor": 1
}
